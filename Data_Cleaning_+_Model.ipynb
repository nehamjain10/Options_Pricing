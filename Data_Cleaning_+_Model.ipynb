{
  "nbformat": 4,
  "nbformat_minor": 0,
  "metadata": {
    "colab": {
      "name": "Data Cleaning + Model.ipynb",
      "provenance": [],
      "collapsed_sections": [],
      "include_colab_link": true
    },
    "kernelspec": {
      "name": "python3",
      "display_name": "Python 3"
    }
  },
  "cells": [
    {
      "cell_type": "markdown",
      "metadata": {
        "id": "view-in-github",
        "colab_type": "text"
      },
      "source": [
        "<a href=\"https://colab.research.google.com/github/nehamjain10/Options_Pricing/blob/main/Data_Cleaning_%2B_Model.ipynb\" target=\"_parent\"><img src=\"https://colab.research.google.com/assets/colab-badge.svg\" alt=\"Open In Colab\"/></a>"
      ]
    },
    {
      "cell_type": "code",
      "metadata": {
        "id": "gqEdM0lhWhAw"
      },
      "source": [
        "import pandas as pd\n",
        "import tensorflow as tf\n",
        "import numpy as np"
      ],
      "execution_count": 1,
      "outputs": []
    },
    {
      "cell_type": "code",
      "metadata": {
        "colab": {
          "base_uri": "https://localhost:8080/"
        },
        "id": "_1sGO9fpc0eS",
        "outputId": "21e4defc-b4e2-41eb-badc-9fb2d74de7e1"
      },
      "source": [
        "from google.colab import drive\n",
        "#drive.flush_and_unmount()\n",
        "drive.mount('/content/drive/')"
      ],
      "execution_count": 2,
      "outputs": [
        {
          "output_type": "stream",
          "text": [
            "Mounted at /content/drive/\n"
          ],
          "name": "stdout"
        }
      ]
    },
    {
      "cell_type": "code",
      "metadata": {
        "id": "i7rDUBTvW04h"
      },
      "source": [
        "df=pd.read_csv(\"/content/drive/MyDrive/DL materials/Options Pricing/final_data_interest_rate.csv\")"
      ],
      "execution_count": 3,
      "outputs": []
    },
    {
      "cell_type": "code",
      "metadata": {
        "id": "GoGX-GLzt1ka"
      },
      "source": [
        "columns=[\"Option Type\", \"Strike Price\" \"Close\", \"Underlying\", \"Durartion\", \"Rate\"]"
      ],
      "execution_count": 4,
      "outputs": []
    },
    {
      "cell_type": "code",
      "metadata": {
        "colab": {
          "base_uri": "https://localhost:8080/",
          "height": 326
        },
        "id": "qUb4NISMvQxb",
        "outputId": "13e5bf74-5ad9-432d-93e6-cb8e3cbaed75"
      },
      "source": [
        "df.head()"
      ],
      "execution_count": 5,
      "outputs": [
        {
          "output_type": "execute_result",
          "data": {
            "text/html": [
              "<div>\n",
              "<style scoped>\n",
              "    .dataframe tbody tr th:only-of-type {\n",
              "        vertical-align: middle;\n",
              "    }\n",
              "\n",
              "    .dataframe tbody tr th {\n",
              "        vertical-align: top;\n",
              "    }\n",
              "\n",
              "    .dataframe thead th {\n",
              "        text-align: right;\n",
              "    }\n",
              "</style>\n",
              "<table border=\"1\" class=\"dataframe\">\n",
              "  <thead>\n",
              "    <tr style=\"text-align: right;\">\n",
              "      <th></th>\n",
              "      <th>Unnamed: 0</th>\n",
              "      <th>Date</th>\n",
              "      <th>Symbol</th>\n",
              "      <th>Expiry</th>\n",
              "      <th>Option Type</th>\n",
              "      <th>Strike Price</th>\n",
              "      <th>Open</th>\n",
              "      <th>High</th>\n",
              "      <th>Low</th>\n",
              "      <th>Close</th>\n",
              "      <th>Last</th>\n",
              "      <th>Settle Price</th>\n",
              "      <th>Number of Contracts</th>\n",
              "      <th>Turnover</th>\n",
              "      <th>Premium Turnover</th>\n",
              "      <th>Open Interest</th>\n",
              "      <th>Change in OI</th>\n",
              "      <th>Underlying</th>\n",
              "      <th>DateOfTrade</th>\n",
              "      <th>Duration</th>\n",
              "      <th>R1</th>\n",
              "      <th>R2</th>\n",
              "      <th>rate</th>\n",
              "    </tr>\n",
              "  </thead>\n",
              "  <tbody>\n",
              "    <tr>\n",
              "      <th>0</th>\n",
              "      <td>0</td>\n",
              "      <td>2010-01-04</td>\n",
              "      <td>NIFTY</td>\n",
              "      <td>2010-03-25</td>\n",
              "      <td>CE</td>\n",
              "      <td>2400.0</td>\n",
              "      <td>2799.00</td>\n",
              "      <td>2820.0</td>\n",
              "      <td>2780.00</td>\n",
              "      <td>2820.00</td>\n",
              "      <td>2820.0</td>\n",
              "      <td>2820.00</td>\n",
              "      <td>5</td>\n",
              "      <td>1.298000e+06</td>\n",
              "      <td>NaN</td>\n",
              "      <td>30550</td>\n",
              "      <td>100</td>\n",
              "      <td>5232.2</td>\n",
              "      <td>2010-01-04</td>\n",
              "      <td>80</td>\n",
              "      <td>3.35</td>\n",
              "      <td>4.959</td>\n",
              "      <td>3.291491</td>\n",
              "    </tr>\n",
              "    <tr>\n",
              "      <th>1</th>\n",
              "      <td>1</td>\n",
              "      <td>2010-01-04</td>\n",
              "      <td>NIFTY</td>\n",
              "      <td>2010-03-25</td>\n",
              "      <td>CE</td>\n",
              "      <td>5800.0</td>\n",
              "      <td>45.05</td>\n",
              "      <td>50.5</td>\n",
              "      <td>45.05</td>\n",
              "      <td>47.80</td>\n",
              "      <td>50.0</td>\n",
              "      <td>47.80</td>\n",
              "      <td>3544</td>\n",
              "      <td>1.036386e+09</td>\n",
              "      <td>NaN</td>\n",
              "      <td>179450</td>\n",
              "      <td>160750</td>\n",
              "      <td>5232.2</td>\n",
              "      <td>2010-01-04</td>\n",
              "      <td>80</td>\n",
              "      <td>3.35</td>\n",
              "      <td>4.959</td>\n",
              "      <td>3.291491</td>\n",
              "    </tr>\n",
              "    <tr>\n",
              "      <th>2</th>\n",
              "      <td>2</td>\n",
              "      <td>2010-01-04</td>\n",
              "      <td>NIFTY</td>\n",
              "      <td>2010-03-25</td>\n",
              "      <td>CE</td>\n",
              "      <td>2600.0</td>\n",
              "      <td>0.00</td>\n",
              "      <td>0.0</td>\n",
              "      <td>0.00</td>\n",
              "      <td>866.70</td>\n",
              "      <td>0.0</td>\n",
              "      <td>2657.80</td>\n",
              "      <td>0</td>\n",
              "      <td>0.000000e+00</td>\n",
              "      <td>NaN</td>\n",
              "      <td>0</td>\n",
              "      <td>0</td>\n",
              "      <td>5232.2</td>\n",
              "      <td>2010-01-04</td>\n",
              "      <td>80</td>\n",
              "      <td>3.35</td>\n",
              "      <td>4.959</td>\n",
              "      <td>3.291491</td>\n",
              "    </tr>\n",
              "    <tr>\n",
              "      <th>3</th>\n",
              "      <td>3</td>\n",
              "      <td>2010-01-04</td>\n",
              "      <td>NIFTY</td>\n",
              "      <td>2010-03-25</td>\n",
              "      <td>CE</td>\n",
              "      <td>2700.0</td>\n",
              "      <td>0.00</td>\n",
              "      <td>0.0</td>\n",
              "      <td>0.00</td>\n",
              "      <td>808.15</td>\n",
              "      <td>0.0</td>\n",
              "      <td>2558.80</td>\n",
              "      <td>0</td>\n",
              "      <td>0.000000e+00</td>\n",
              "      <td>NaN</td>\n",
              "      <td>0</td>\n",
              "      <td>0</td>\n",
              "      <td>5232.2</td>\n",
              "      <td>2010-01-04</td>\n",
              "      <td>80</td>\n",
              "      <td>3.35</td>\n",
              "      <td>4.959</td>\n",
              "      <td>3.291491</td>\n",
              "    </tr>\n",
              "    <tr>\n",
              "      <th>4</th>\n",
              "      <td>4</td>\n",
              "      <td>2010-01-04</td>\n",
              "      <td>NIFTY</td>\n",
              "      <td>2010-03-25</td>\n",
              "      <td>CE</td>\n",
              "      <td>2800.0</td>\n",
              "      <td>0.00</td>\n",
              "      <td>0.0</td>\n",
              "      <td>0.00</td>\n",
              "      <td>752.70</td>\n",
              "      <td>0.0</td>\n",
              "      <td>2459.75</td>\n",
              "      <td>0</td>\n",
              "      <td>0.000000e+00</td>\n",
              "      <td>NaN</td>\n",
              "      <td>0</td>\n",
              "      <td>0</td>\n",
              "      <td>5232.2</td>\n",
              "      <td>2010-01-04</td>\n",
              "      <td>80</td>\n",
              "      <td>3.35</td>\n",
              "      <td>4.959</td>\n",
              "      <td>3.291491</td>\n",
              "    </tr>\n",
              "  </tbody>\n",
              "</table>\n",
              "</div>"
            ],
            "text/plain": [
              "   Unnamed: 0        Date Symbol      Expiry  ... Duration    R1     R2      rate\n",
              "0           0  2010-01-04  NIFTY  2010-03-25  ...       80  3.35  4.959  3.291491\n",
              "1           1  2010-01-04  NIFTY  2010-03-25  ...       80  3.35  4.959  3.291491\n",
              "2           2  2010-01-04  NIFTY  2010-03-25  ...       80  3.35  4.959  3.291491\n",
              "3           3  2010-01-04  NIFTY  2010-03-25  ...       80  3.35  4.959  3.291491\n",
              "4           4  2010-01-04  NIFTY  2010-03-25  ...       80  3.35  4.959  3.291491\n",
              "\n",
              "[5 rows x 23 columns]"
            ]
          },
          "metadata": {
            "tags": []
          },
          "execution_count": 5
        }
      ]
    },
    {
      "cell_type": "code",
      "metadata": {
        "colab": {
          "base_uri": "https://localhost:8080/"
        },
        "id": "DIW20SwaHwHH",
        "outputId": "8c479af0-6b6d-4970-99a2-182f653cc0e6"
      },
      "source": [
        "df.shape"
      ],
      "execution_count": 6,
      "outputs": [
        {
          "output_type": "execute_result",
          "data": {
            "text/plain": [
              "(1138013, 23)"
            ]
          },
          "metadata": {
            "tags": []
          },
          "execution_count": 6
        }
      ]
    },
    {
      "cell_type": "code",
      "metadata": {
        "id": "QxJ-PGT1Gkzd"
      },
      "source": [
        "underlying = pd.read_csv(\"/content/drive/MyDrive/DL materials/Options Pricing/underlying.csv\")"
      ],
      "execution_count": 7,
      "outputs": []
    },
    {
      "cell_type": "code",
      "metadata": {
        "id": "Z4FPxjjpG1UY"
      },
      "source": [
        "underlying[\"Date\"] = underlying[\"0\"]"
      ],
      "execution_count": 8,
      "outputs": []
    },
    {
      "cell_type": "code",
      "metadata": {
        "id": "fV8jN0KpHFYJ"
      },
      "source": [
        "col1 = [\"Close\", \"Date\"]"
      ],
      "execution_count": 9,
      "outputs": []
    },
    {
      "cell_type": "code",
      "metadata": {
        "id": "rINP13YEHBz1"
      },
      "source": [
        "underlying = underlying[col1]"
      ],
      "execution_count": 10,
      "outputs": []
    },
    {
      "cell_type": "code",
      "metadata": {
        "colab": {
          "base_uri": "https://localhost:8080/"
        },
        "id": "yy5Nvqe7J7fE",
        "outputId": "34c48d7f-2559-46c3-db21-06355144771d"
      },
      "source": [
        "underlying.shape"
      ],
      "execution_count": 11,
      "outputs": [
        {
          "output_type": "execute_result",
          "data": {
            "text/plain": [
              "(1244, 2)"
            ]
          },
          "metadata": {
            "tags": []
          },
          "execution_count": 11
        }
      ]
    },
    {
      "cell_type": "code",
      "metadata": {
        "id": "wgZbfV1pHTsc"
      },
      "source": [
        "underlying['sigma_20'] = underlying.Close.rolling(20).apply(lambda x: (np.diff(x) / x[:-1]).std())"
      ],
      "execution_count": 12,
      "outputs": []
    },
    {
      "cell_type": "code",
      "metadata": {
        "colab": {
          "base_uri": "https://localhost:8080/"
        },
        "id": "AQxgWHZpMGhy",
        "outputId": "8383dbc0-5c39-47a1-eae2-c2a7765d4370"
      },
      "source": [
        "underlying[\"Close\"]"
      ],
      "execution_count": 13,
      "outputs": [
        {
          "output_type": "execute_result",
          "data": {
            "text/plain": [
              "0       5232.20\n",
              "1       5277.90\n",
              "2       5281.80\n",
              "3       5263.10\n",
              "4       5244.75\n",
              "         ...   \n",
              "1239    8174.10\n",
              "1240    8200.70\n",
              "1241    8246.30\n",
              "1242    8248.25\n",
              "1243    8282.70\n",
              "Name: Close, Length: 1244, dtype: float64"
            ]
          },
          "metadata": {
            "tags": []
          },
          "execution_count": 13
        }
      ]
    },
    {
      "cell_type": "code",
      "metadata": {
        "id": "_Ti8Tk3kK51R"
      },
      "source": [
        "import matplotlib.pyplot as plt"
      ],
      "execution_count": 14,
      "outputs": []
    },
    {
      "cell_type": "code",
      "metadata": {
        "id": "7cukOpwiK7c8",
        "colab": {
          "base_uri": "https://localhost:8080/",
          "height": 282
        },
        "outputId": "75529d2d-c0be-4b77-eeb1-65d0490955dc"
      },
      "source": [
        "plt.plot(underlying.sigma_20)"
      ],
      "execution_count": 15,
      "outputs": [
        {
          "output_type": "execute_result",
          "data": {
            "text/plain": [
              "[<matplotlib.lines.Line2D at 0x7f484ac7c090>]"
            ]
          },
          "metadata": {
            "tags": []
          },
          "execution_count": 15
        },
        {
          "output_type": "display_data",
          "data": {
            "image/png": "[encoded data removed]",
            "text/plain": [
              "<Figure size 432x288 with 1 Axes>"
            ]
          },
          "metadata": {
            "tags": [],
            "needs_background": "light"
          }
        }
      ]
    },
    {
      "cell_type": "code",
      "metadata": {
        "id": "OYFR7qCe2vZS"
      },
      "source": [
        "joined = df.merge(underlying, on = \"Date\")"
      ],
      "execution_count": 16,
      "outputs": []
    },
    {
      "cell_type": "code",
      "metadata": {
        "colab": {
          "base_uri": "https://localhost:8080/"
        },
        "id": "U1GErZTRNHzA",
        "outputId": "e823a666-035a-4f9a-d816-47a1d958e2dc"
      },
      "source": [
        "joined.shape"
      ],
      "execution_count": 17,
      "outputs": [
        {
          "output_type": "execute_result",
          "data": {
            "text/plain": [
              "(355468, 25)"
            ]
          },
          "metadata": {
            "tags": []
          },
          "execution_count": 17
        }
      ]
    },
    {
      "cell_type": "code",
      "metadata": {
        "colab": {
          "base_uri": "https://localhost:8080/"
        },
        "id": "1rlesSrqMbLm",
        "outputId": "4e7c9415-fe35-467a-d3a2-0999fe6f2a67"
      },
      "source": [
        "joined.columns"
      ],
      "execution_count": 18,
      "outputs": [
        {
          "output_type": "execute_result",
          "data": {
            "text/plain": [
              "Index(['Unnamed: 0', 'Date', 'Symbol', 'Expiry', 'Option Type', 'Strike Price',\n",
              "       'Open', 'High', 'Low', 'Close_x', 'Last', 'Settle Price',\n",
              "       'Number of Contracts', 'Turnover', 'Premium Turnover', 'Open Interest',\n",
              "       'Change in OI', 'Underlying', 'DateOfTrade', 'Duration', 'R1', 'R2',\n",
              "       'rate', 'Close_y', 'sigma_20'],\n",
              "      dtype='object')"
            ]
          },
          "metadata": {
            "tags": []
          },
          "execution_count": 18
        }
      ]
    },
    {
      "cell_type": "code",
      "metadata": {
        "id": "9_hdJgJnIeJs"
      },
      "source": [
        "col2 = joined.columns"
      ],
      "execution_count": 19,
      "outputs": []
    },
    {
      "cell_type": "code",
      "metadata": {
        "id": "BMnQNT_RHqCh"
      },
      "source": [
        "final = joined[col2]"
      ],
      "execution_count": 20,
      "outputs": []
    },
    {
      "cell_type": "code",
      "metadata": {
        "colab": {
          "base_uri": "https://localhost:8080/",
          "height": 326
        },
        "id": "9t2a_87bSUDD",
        "outputId": "533dc5e7-96af-4873-c4cc-df34f03b6c14"
      },
      "source": [
        "final.head()"
      ],
      "execution_count": 21,
      "outputs": [
        {
          "output_type": "execute_result",
          "data": {
            "text/html": [
              "<div>\n",
              "<style scoped>\n",
              "    .dataframe tbody tr th:only-of-type {\n",
              "        vertical-align: middle;\n",
              "    }\n",
              "\n",
              "    .dataframe tbody tr th {\n",
              "        vertical-align: top;\n",
              "    }\n",
              "\n",
              "    .dataframe thead th {\n",
              "        text-align: right;\n",
              "    }\n",
              "</style>\n",
              "<table border=\"1\" class=\"dataframe\">\n",
              "  <thead>\n",
              "    <tr style=\"text-align: right;\">\n",
              "      <th></th>\n",
              "      <th>Unnamed: 0</th>\n",
              "      <th>Date</th>\n",
              "      <th>Symbol</th>\n",
              "      <th>Expiry</th>\n",
              "      <th>Option Type</th>\n",
              "      <th>Strike Price</th>\n",
              "      <th>Open</th>\n",
              "      <th>High</th>\n",
              "      <th>Low</th>\n",
              "      <th>Close_x</th>\n",
              "      <th>Last</th>\n",
              "      <th>Settle Price</th>\n",
              "      <th>Number of Contracts</th>\n",
              "      <th>Turnover</th>\n",
              "      <th>Premium Turnover</th>\n",
              "      <th>Open Interest</th>\n",
              "      <th>Change in OI</th>\n",
              "      <th>Underlying</th>\n",
              "      <th>DateOfTrade</th>\n",
              "      <th>Duration</th>\n",
              "      <th>R1</th>\n",
              "      <th>R2</th>\n",
              "      <th>rate</th>\n",
              "      <th>Close_y</th>\n",
              "      <th>sigma_20</th>\n",
              "    </tr>\n",
              "  </thead>\n",
              "  <tbody>\n",
              "    <tr>\n",
              "      <th>0</th>\n",
              "      <td>0</td>\n",
              "      <td>2010-01-04</td>\n",
              "      <td>NIFTY</td>\n",
              "      <td>2010-03-25</td>\n",
              "      <td>CE</td>\n",
              "      <td>2400.0</td>\n",
              "      <td>2799.00</td>\n",
              "      <td>2820.0</td>\n",
              "      <td>2780.00</td>\n",
              "      <td>2820.00</td>\n",
              "      <td>2820.0</td>\n",
              "      <td>2820.00</td>\n",
              "      <td>5</td>\n",
              "      <td>1.298000e+06</td>\n",
              "      <td>NaN</td>\n",
              "      <td>30550</td>\n",
              "      <td>100</td>\n",
              "      <td>5232.2</td>\n",
              "      <td>2010-01-04</td>\n",
              "      <td>80</td>\n",
              "      <td>3.35</td>\n",
              "      <td>4.959</td>\n",
              "      <td>3.291491</td>\n",
              "      <td>5232.2</td>\n",
              "      <td>NaN</td>\n",
              "    </tr>\n",
              "    <tr>\n",
              "      <th>1</th>\n",
              "      <td>1</td>\n",
              "      <td>2010-01-04</td>\n",
              "      <td>NIFTY</td>\n",
              "      <td>2010-03-25</td>\n",
              "      <td>CE</td>\n",
              "      <td>5800.0</td>\n",
              "      <td>45.05</td>\n",
              "      <td>50.5</td>\n",
              "      <td>45.05</td>\n",
              "      <td>47.80</td>\n",
              "      <td>50.0</td>\n",
              "      <td>47.80</td>\n",
              "      <td>3544</td>\n",
              "      <td>1.036386e+09</td>\n",
              "      <td>NaN</td>\n",
              "      <td>179450</td>\n",
              "      <td>160750</td>\n",
              "      <td>5232.2</td>\n",
              "      <td>2010-01-04</td>\n",
              "      <td>80</td>\n",
              "      <td>3.35</td>\n",
              "      <td>4.959</td>\n",
              "      <td>3.291491</td>\n",
              "      <td>5232.2</td>\n",
              "      <td>NaN</td>\n",
              "    </tr>\n",
              "    <tr>\n",
              "      <th>2</th>\n",
              "      <td>2</td>\n",
              "      <td>2010-01-04</td>\n",
              "      <td>NIFTY</td>\n",
              "      <td>2010-03-25</td>\n",
              "      <td>CE</td>\n",
              "      <td>2600.0</td>\n",
              "      <td>0.00</td>\n",
              "      <td>0.0</td>\n",
              "      <td>0.00</td>\n",
              "      <td>866.70</td>\n",
              "      <td>0.0</td>\n",
              "      <td>2657.80</td>\n",
              "      <td>0</td>\n",
              "      <td>0.000000e+00</td>\n",
              "      <td>NaN</td>\n",
              "      <td>0</td>\n",
              "      <td>0</td>\n",
              "      <td>5232.2</td>\n",
              "      <td>2010-01-04</td>\n",
              "      <td>80</td>\n",
              "      <td>3.35</td>\n",
              "      <td>4.959</td>\n",
              "      <td>3.291491</td>\n",
              "      <td>5232.2</td>\n",
              "      <td>NaN</td>\n",
              "    </tr>\n",
              "    <tr>\n",
              "      <th>3</th>\n",
              "      <td>3</td>\n",
              "      <td>2010-01-04</td>\n",
              "      <td>NIFTY</td>\n",
              "      <td>2010-03-25</td>\n",
              "      <td>CE</td>\n",
              "      <td>2700.0</td>\n",
              "      <td>0.00</td>\n",
              "      <td>0.0</td>\n",
              "      <td>0.00</td>\n",
              "      <td>808.15</td>\n",
              "      <td>0.0</td>\n",
              "      <td>2558.80</td>\n",
              "      <td>0</td>\n",
              "      <td>0.000000e+00</td>\n",
              "      <td>NaN</td>\n",
              "      <td>0</td>\n",
              "      <td>0</td>\n",
              "      <td>5232.2</td>\n",
              "      <td>2010-01-04</td>\n",
              "      <td>80</td>\n",
              "      <td>3.35</td>\n",
              "      <td>4.959</td>\n",
              "      <td>3.291491</td>\n",
              "      <td>5232.2</td>\n",
              "      <td>NaN</td>\n",
              "    </tr>\n",
              "    <tr>\n",
              "      <th>4</th>\n",
              "      <td>4</td>\n",
              "      <td>2010-01-04</td>\n",
              "      <td>NIFTY</td>\n",
              "      <td>2010-03-25</td>\n",
              "      <td>CE</td>\n",
              "      <td>2800.0</td>\n",
              "      <td>0.00</td>\n",
              "      <td>0.0</td>\n",
              "      <td>0.00</td>\n",
              "      <td>752.70</td>\n",
              "      <td>0.0</td>\n",
              "      <td>2459.75</td>\n",
              "      <td>0</td>\n",
              "      <td>0.000000e+00</td>\n",
              "      <td>NaN</td>\n",
              "      <td>0</td>\n",
              "      <td>0</td>\n",
              "      <td>5232.2</td>\n",
              "      <td>2010-01-04</td>\n",
              "      <td>80</td>\n",
              "      <td>3.35</td>\n",
              "      <td>4.959</td>\n",
              "      <td>3.291491</td>\n",
              "      <td>5232.2</td>\n",
              "      <td>NaN</td>\n",
              "    </tr>\n",
              "  </tbody>\n",
              "</table>\n",
              "</div>"
            ],
            "text/plain": [
              "   Unnamed: 0        Date Symbol  ...      rate Close_y  sigma_20\n",
              "0           0  2010-01-04  NIFTY  ...  3.291491  5232.2       NaN\n",
              "1           1  2010-01-04  NIFTY  ...  3.291491  5232.2       NaN\n",
              "2           2  2010-01-04  NIFTY  ...  3.291491  5232.2       NaN\n",
              "3           3  2010-01-04  NIFTY  ...  3.291491  5232.2       NaN\n",
              "4           4  2010-01-04  NIFTY  ...  3.291491  5232.2       NaN\n",
              "\n",
              "[5 rows x 25 columns]"
            ]
          },
          "metadata": {
            "tags": []
          },
          "execution_count": 21
        }
      ]
    },
    {
      "cell_type": "code",
      "metadata": {
        "colab": {
          "base_uri": "https://localhost:8080/"
        },
        "id": "RnLO8AWTm5OG",
        "outputId": "aa12c50b-1877-46bf-c436-2e075dded901"
      },
      "source": [
        "final.shape"
      ],
      "execution_count": 22,
      "outputs": [
        {
          "output_type": "execute_result",
          "data": {
            "text/plain": [
              "(355468, 25)"
            ]
          },
          "metadata": {
            "tags": []
          },
          "execution_count": 22
        }
      ]
    },
    {
      "cell_type": "code",
      "metadata": {
        "id": "VIJkHN9TR__T"
      },
      "source": [
        "final = final[final[\"Turnover\"]>0]"
      ],
      "execution_count": 23,
      "outputs": []
    },
    {
      "cell_type": "code",
      "metadata": {
        "colab": {
          "base_uri": "https://localhost:8080/"
        },
        "id": "qTqoghrHm7V5",
        "outputId": "4a46c5ba-6e70-401a-e38d-be60724e183a"
      },
      "source": [
        "final.shape"
      ],
      "execution_count": 24,
      "outputs": [
        {
          "output_type": "execute_result",
          "data": {
            "text/plain": [
              "(105625, 25)"
            ]
          },
          "metadata": {
            "tags": []
          },
          "execution_count": 24
        }
      ]
    },
    {
      "cell_type": "code",
      "metadata": {
        "id": "sxX0Bd1aPOdn"
      },
      "source": [
        "from scipy.stats import norm"
      ],
      "execution_count": 25,
      "outputs": []
    },
    {
      "cell_type": "code",
      "metadata": {
        "id": "33HFKh3WOjcW"
      },
      "source": [
        "def black_scholes(row):\n",
        "    S = row.Underlying\n",
        "    X = row[\"Strike Price\"]\n",
        "    T = row.Duration / 365\n",
        "    r = row.rate / 100\n",
        "    σ = row.sigma_20\n",
        "    d1 = (np.log(S / X) + (r + (σ ** 2) / 2) * T) / (σ * (T ** .5))\n",
        "    d2 = d1 - σ * (T ** .5)\n",
        "    C = S * norm.cdf(d1) - X * np.exp(-r * T) * norm.cdf(d2)\n",
        "    return C"
      ],
      "execution_count": 26,
      "outputs": []
    },
    {
      "cell_type": "code",
      "metadata": {
        "id": "Jl4X6mqxOsAH"
      },
      "source": [
        "final['black_scholes_pred'] = final.apply(black_scholes, axis=1)"
      ],
      "execution_count": 27,
      "outputs": []
    },
    {
      "cell_type": "code",
      "metadata": {
        "id": "8nyujCeYP1l3"
      },
      "source": [
        "final[\"diff\"] = final[\"Close_x\"] - final[\"black_scholes_pred\"]"
      ],
      "execution_count": 28,
      "outputs": []
    },
    {
      "cell_type": "code",
      "metadata": {
        "colab": {
          "base_uri": "https://localhost:8080/"
        },
        "id": "WOYKKImFQCt-",
        "outputId": "71e49ddc-73d6-4525-9a6a-b4e9c0e72df7"
      },
      "source": [
        "final[\"diff\"].describe()"
      ],
      "execution_count": 29,
      "outputs": [
        {
          "output_type": "execute_result",
          "data": {
            "text/plain": [
              "count    104218.000000\n",
              "mean         33.446151\n",
              "std          73.694852\n",
              "min        -740.981032\n",
              "25%           0.250000\n",
              "50%          11.212844\n",
              "75%          61.848096\n",
              "max         684.811051\n",
              "Name: diff, dtype: float64"
            ]
          },
          "metadata": {
            "tags": []
          },
          "execution_count": 29
        }
      ]
    },
    {
      "cell_type": "code",
      "metadata": {
        "id": "K2b0qNMkS857"
      },
      "source": [
        "col3=[\"Date\",\"Close_x\",\"Strike Price\", \"Underlying\", \"Duration\", \"rate\", \"sigma_20\"]"
      ],
      "execution_count": 30,
      "outputs": []
    },
    {
      "cell_type": "code",
      "metadata": {
        "id": "B7ynnT32T5_2"
      },
      "source": [
        "final = final[col3]"
      ],
      "execution_count": 31,
      "outputs": []
    },
    {
      "cell_type": "code",
      "metadata": {
        "colab": {
          "base_uri": "https://localhost:8080/"
        },
        "id": "6sD0tyILT8m2",
        "outputId": "6dcad473-e959-4824-da8c-1d64dab2bc1a"
      },
      "source": [
        "final.shape"
      ],
      "execution_count": 32,
      "outputs": [
        {
          "output_type": "execute_result",
          "data": {
            "text/plain": [
              "(105625, 7)"
            ]
          },
          "metadata": {
            "tags": []
          },
          "execution_count": 32
        }
      ]
    },
    {
      "cell_type": "code",
      "metadata": {
        "id": "bFyzz5G_UdV1"
      },
      "source": [
        "final = final.dropna()"
      ],
      "execution_count": 33,
      "outputs": []
    },
    {
      "cell_type": "code",
      "metadata": {
        "colab": {
          "base_uri": "https://localhost:8080/"
        },
        "id": "g6U3oBiYUf46",
        "outputId": "0f459a5d-6c20-4373-dd37-ae1f80659ffd"
      },
      "source": [
        "final.shape"
      ],
      "execution_count": 34,
      "outputs": [
        {
          "output_type": "execute_result",
          "data": {
            "text/plain": [
              "(104218, 7)"
            ]
          },
          "metadata": {
            "tags": []
          },
          "execution_count": 34
        }
      ]
    },
    {
      "cell_type": "code",
      "metadata": {
        "id": "j11r_4eSoxgt"
      },
      "source": [
        "df = final"
      ],
      "execution_count": 35,
      "outputs": []
    },
    {
      "cell_type": "code",
      "metadata": {
        "colab": {
          "base_uri": "https://localhost:8080/",
          "height": 419
        },
        "id": "IpPZhvPvqlKW",
        "outputId": "6a5c2712-bcea-4852-c409-4db786b3e778"
      },
      "source": [
        "df"
      ],
      "execution_count": 36,
      "outputs": [
        {
          "output_type": "execute_result",
          "data": {
            "text/html": [
              "<div>\n",
              "<style scoped>\n",
              "    .dataframe tbody tr th:only-of-type {\n",
              "        vertical-align: middle;\n",
              "    }\n",
              "\n",
              "    .dataframe tbody tr th {\n",
              "        vertical-align: top;\n",
              "    }\n",
              "\n",
              "    .dataframe thead th {\n",
              "        text-align: right;\n",
              "    }\n",
              "</style>\n",
              "<table border=\"1\" class=\"dataframe\">\n",
              "  <thead>\n",
              "    <tr style=\"text-align: right;\">\n",
              "      <th></th>\n",
              "      <th>Date</th>\n",
              "      <th>Close_x</th>\n",
              "      <th>Strike Price</th>\n",
              "      <th>Underlying</th>\n",
              "      <th>Duration</th>\n",
              "      <th>rate</th>\n",
              "      <th>sigma_20</th>\n",
              "    </tr>\n",
              "  </thead>\n",
              "  <tbody>\n",
              "    <tr>\n",
              "      <th>3254</th>\n",
              "      <td>2010-02-01</td>\n",
              "      <td>38.20</td>\n",
              "      <td>5500.0</td>\n",
              "      <td>4899.7</td>\n",
              "      <td>87</td>\n",
              "      <td>3.991731</td>\n",
              "      <td>0.010098</td>\n",
              "    </tr>\n",
              "    <tr>\n",
              "      <th>3255</th>\n",
              "      <td>2010-02-01</td>\n",
              "      <td>195.50</td>\n",
              "      <td>5000.0</td>\n",
              "      <td>4899.7</td>\n",
              "      <td>87</td>\n",
              "      <td>3.991731</td>\n",
              "      <td>0.010098</td>\n",
              "    </tr>\n",
              "    <tr>\n",
              "      <th>3256</th>\n",
              "      <td>2010-02-01</td>\n",
              "      <td>144.00</td>\n",
              "      <td>5100.0</td>\n",
              "      <td>4899.7</td>\n",
              "      <td>87</td>\n",
              "      <td>3.991731</td>\n",
              "      <td>0.010098</td>\n",
              "    </tr>\n",
              "    <tr>\n",
              "      <th>3257</th>\n",
              "      <td>2010-02-01</td>\n",
              "      <td>103.35</td>\n",
              "      <td>5200.0</td>\n",
              "      <td>4899.7</td>\n",
              "      <td>87</td>\n",
              "      <td>3.991731</td>\n",
              "      <td>0.010098</td>\n",
              "    </tr>\n",
              "    <tr>\n",
              "      <th>3258</th>\n",
              "      <td>2010-02-01</td>\n",
              "      <td>78.40</td>\n",
              "      <td>5300.0</td>\n",
              "      <td>4899.7</td>\n",
              "      <td>87</td>\n",
              "      <td>3.991731</td>\n",
              "      <td>0.010098</td>\n",
              "    </tr>\n",
              "    <tr>\n",
              "      <th>...</th>\n",
              "      <td>...</td>\n",
              "      <td>...</td>\n",
              "      <td>...</td>\n",
              "      <td>...</td>\n",
              "      <td>...</td>\n",
              "      <td>...</td>\n",
              "      <td>...</td>\n",
              "    </tr>\n",
              "    <tr>\n",
              "      <th>355391</th>\n",
              "      <td>2014-12-31</td>\n",
              "      <td>1.90</td>\n",
              "      <td>9200.0</td>\n",
              "      <td>8282.7</td>\n",
              "      <td>29</td>\n",
              "      <td>8.380575</td>\n",
              "      <td>0.008940</td>\n",
              "    </tr>\n",
              "    <tr>\n",
              "      <th>355393</th>\n",
              "      <td>2014-12-31</td>\n",
              "      <td>1.40</td>\n",
              "      <td>9300.0</td>\n",
              "      <td>8282.7</td>\n",
              "      <td>29</td>\n",
              "      <td>8.380575</td>\n",
              "      <td>0.008940</td>\n",
              "    </tr>\n",
              "    <tr>\n",
              "      <th>355395</th>\n",
              "      <td>2014-12-31</td>\n",
              "      <td>1.50</td>\n",
              "      <td>9400.0</td>\n",
              "      <td>8282.7</td>\n",
              "      <td>29</td>\n",
              "      <td>8.380575</td>\n",
              "      <td>0.008940</td>\n",
              "    </tr>\n",
              "    <tr>\n",
              "      <th>355397</th>\n",
              "      <td>2014-12-31</td>\n",
              "      <td>1.25</td>\n",
              "      <td>9500.0</td>\n",
              "      <td>8282.7</td>\n",
              "      <td>29</td>\n",
              "      <td>8.380575</td>\n",
              "      <td>0.008940</td>\n",
              "    </tr>\n",
              "    <tr>\n",
              "      <th>355407</th>\n",
              "      <td>2014-12-31</td>\n",
              "      <td>0.45</td>\n",
              "      <td>10000.0</td>\n",
              "      <td>8282.7</td>\n",
              "      <td>29</td>\n",
              "      <td>8.380575</td>\n",
              "      <td>0.008940</td>\n",
              "    </tr>\n",
              "  </tbody>\n",
              "</table>\n",
              "<p>104218 rows × 7 columns</p>\n",
              "</div>"
            ],
            "text/plain": [
              "              Date  Close_x  Strike Price  ...  Duration      rate  sigma_20\n",
              "3254    2010-02-01    38.20        5500.0  ...        87  3.991731  0.010098\n",
              "3255    2010-02-01   195.50        5000.0  ...        87  3.991731  0.010098\n",
              "3256    2010-02-01   144.00        5100.0  ...        87  3.991731  0.010098\n",
              "3257    2010-02-01   103.35        5200.0  ...        87  3.991731  0.010098\n",
              "3258    2010-02-01    78.40        5300.0  ...        87  3.991731  0.010098\n",
              "...            ...      ...           ...  ...       ...       ...       ...\n",
              "355391  2014-12-31     1.90        9200.0  ...        29  8.380575  0.008940\n",
              "355393  2014-12-31     1.40        9300.0  ...        29  8.380575  0.008940\n",
              "355395  2014-12-31     1.50        9400.0  ...        29  8.380575  0.008940\n",
              "355397  2014-12-31     1.25        9500.0  ...        29  8.380575  0.008940\n",
              "355407  2014-12-31     0.45       10000.0  ...        29  8.380575  0.008940\n",
              "\n",
              "[104218 rows x 7 columns]"
            ]
          },
          "metadata": {
            "tags": []
          },
          "execution_count": 36
        }
      ]
    },
    {
      "cell_type": "code",
      "metadata": {
        "colab": {
          "base_uri": "https://localhost:8080/",
          "height": 297
        },
        "id": "aDrmpepesrZo",
        "outputId": "8be483ff-17b5-40d2-c884-95cf6902cbfa"
      },
      "source": [
        "df.describe()"
      ],
      "execution_count": 37,
      "outputs": [
        {
          "output_type": "execute_result",
          "data": {
            "text/html": [
              "<div>\n",
              "<style scoped>\n",
              "    .dataframe tbody tr th:only-of-type {\n",
              "        vertical-align: middle;\n",
              "    }\n",
              "\n",
              "    .dataframe tbody tr th {\n",
              "        vertical-align: top;\n",
              "    }\n",
              "\n",
              "    .dataframe thead th {\n",
              "        text-align: right;\n",
              "    }\n",
              "</style>\n",
              "<table border=\"1\" class=\"dataframe\">\n",
              "  <thead>\n",
              "    <tr style=\"text-align: right;\">\n",
              "      <th></th>\n",
              "      <th>Close_x</th>\n",
              "      <th>Strike Price</th>\n",
              "      <th>Underlying</th>\n",
              "      <th>Duration</th>\n",
              "      <th>rate</th>\n",
              "      <th>sigma_20</th>\n",
              "    </tr>\n",
              "  </thead>\n",
              "  <tbody>\n",
              "    <tr>\n",
              "      <th>count</th>\n",
              "      <td>104218.000000</td>\n",
              "      <td>104218.000000</td>\n",
              "      <td>104218.000000</td>\n",
              "      <td>104218.000000</td>\n",
              "      <td>104218.000000</td>\n",
              "      <td>104218.000000</td>\n",
              "    </tr>\n",
              "    <tr>\n",
              "      <th>mean</th>\n",
              "      <td>494.971166</td>\n",
              "      <td>5888.925138</td>\n",
              "      <td>5986.447570</td>\n",
              "      <td>66.045194</td>\n",
              "      <td>8.043771</td>\n",
              "      <td>0.010117</td>\n",
              "    </tr>\n",
              "    <tr>\n",
              "      <th>std</th>\n",
              "      <td>753.126084</td>\n",
              "      <td>1261.483108</td>\n",
              "      <td>939.181647</td>\n",
              "      <td>67.793828</td>\n",
              "      <td>1.281389</td>\n",
              "      <td>0.003263</td>\n",
              "    </tr>\n",
              "    <tr>\n",
              "      <th>min</th>\n",
              "      <td>0.050000</td>\n",
              "      <td>2000.000000</td>\n",
              "      <td>4544.200000</td>\n",
              "      <td>1.000000</td>\n",
              "      <td>3.489920</td>\n",
              "      <td>0.004026</td>\n",
              "    </tr>\n",
              "    <tr>\n",
              "      <th>25%</th>\n",
              "      <td>19.100000</td>\n",
              "      <td>5100.000000</td>\n",
              "      <td>5322.900000</td>\n",
              "      <td>22.000000</td>\n",
              "      <td>7.537738</td>\n",
              "      <td>0.007911</td>\n",
              "    </tr>\n",
              "    <tr>\n",
              "      <th>50%</th>\n",
              "      <td>185.425000</td>\n",
              "      <td>5900.000000</td>\n",
              "      <td>5784.250000</td>\n",
              "      <td>44.000000</td>\n",
              "      <td>8.347382</td>\n",
              "      <td>0.009634</td>\n",
              "    </tr>\n",
              "    <tr>\n",
              "      <th>75%</th>\n",
              "      <td>656.487500</td>\n",
              "      <td>6600.000000</td>\n",
              "      <td>6200.050000</td>\n",
              "      <td>82.000000</td>\n",
              "      <td>8.674720</td>\n",
              "      <td>0.011740</td>\n",
              "    </tr>\n",
              "    <tr>\n",
              "      <th>max</th>\n",
              "      <td>5925.000000</td>\n",
              "      <td>10500.000000</td>\n",
              "      <td>8588.250000</td>\n",
              "      <td>364.000000</td>\n",
              "      <td>12.303742</td>\n",
              "      <td>0.022707</td>\n",
              "    </tr>\n",
              "  </tbody>\n",
              "</table>\n",
              "</div>"
            ],
            "text/plain": [
              "             Close_x   Strike Price  ...           rate       sigma_20\n",
              "count  104218.000000  104218.000000  ...  104218.000000  104218.000000\n",
              "mean      494.971166    5888.925138  ...       8.043771       0.010117\n",
              "std       753.126084    1261.483108  ...       1.281389       0.003263\n",
              "min         0.050000    2000.000000  ...       3.489920       0.004026\n",
              "25%        19.100000    5100.000000  ...       7.537738       0.007911\n",
              "50%       185.425000    5900.000000  ...       8.347382       0.009634\n",
              "75%       656.487500    6600.000000  ...       8.674720       0.011740\n",
              "max      5925.000000   10500.000000  ...      12.303742       0.022707\n",
              "\n",
              "[8 rows x 6 columns]"
            ]
          },
          "metadata": {
            "tags": []
          },
          "execution_count": 37
        }
      ]
    },
    {
      "cell_type": "code",
      "metadata": {
        "id": "-t7YjhluV3zD"
      },
      "source": [
        "from keras.models import Sequential\n",
        "from keras.layers import Dense, Activation, LeakyReLU, BatchNormalization\n",
        "from keras import backend\n",
        "from keras.callbacks import TensorBoard\n",
        "from keras.optimizers import Adam\n",
        "import pandas as pd\n",
        "import numpy as np\n",
        "\n",
        "from sklearn.model_selection import train_test_split\n",
        "from sklearn.metrics import mean_squared_error as mse\n",
        "from sklearn.metrics import r2_score\n",
        "from sklearn.metrics import mean_absolute_error as mae\n",
        "from sklearn.preprocessing import StandardScaler\n",
        "from sklearn.decomposition import PCA"
      ],
      "execution_count": 60,
      "outputs": []
    },
    {
      "cell_type": "code",
      "metadata": {
        "id": "LwiM6eiwstSl"
      },
      "source": [
        "X_col = ['Strike Price', 'Underlying','Duration', 'rate', 'sigma_20']\n",
        "y_col = [\"Close_x\"]"
      ],
      "execution_count": 39,
      "outputs": []
    },
    {
      "cell_type": "code",
      "metadata": {
        "id": "iZYy-uIwgJfM"
      },
      "source": [
        "def col_normalize(df, cols = []):\n",
        "  scaler = StandardScaler()\n",
        "  for i in cols:\n",
        "    df[i] = (df[i] - np.mean(df[i]))/np.std(df[i])\n",
        "  return df\n",
        "\n",
        "def perform_pca(df_train, df_test, n_components):\n",
        "  pca = PCA(n_components = n_components, copy = True)\n",
        "  scaler = StandardScaler()\n",
        "\n",
        "\n",
        "  df_PC_train = pd.DataFrame(pca.fit_transform(df_train))\n",
        "  df_PC_train = pd.DataFrame(scaler.fit_transform(df_PC_train))\n",
        "\n",
        "  df_PC_test = pd.DataFrame(pca.transform(df_test))\n",
        "  df_PC_test = pd.DataFrame(scaler.fit_transform(df_PC_test))\n",
        "\n",
        "  return df_PC_train, df_PC_test"
      ],
      "execution_count": 40,
      "outputs": []
    },
    {
      "cell_type": "code",
      "metadata": {
        "id": "onN1z913t0Zy"
      },
      "source": [
        "X = df[X_col]\n",
        "y = df[y_col]"
      ],
      "execution_count": 41,
      "outputs": []
    },
    {
      "cell_type": "code",
      "metadata": {
        "colab": {
          "base_uri": "https://localhost:8080/",
          "height": 419
        },
        "id": "tw5oj4qLTsRu",
        "outputId": "d9ad412d-1574-4c42-a789-acfcb05ca256"
      },
      "source": [
        "y"
      ],
      "execution_count": 42,
      "outputs": [
        {
          "output_type": "execute_result",
          "data": {
            "text/html": [
              "<div>\n",
              "<style scoped>\n",
              "    .dataframe tbody tr th:only-of-type {\n",
              "        vertical-align: middle;\n",
              "    }\n",
              "\n",
              "    .dataframe tbody tr th {\n",
              "        vertical-align: top;\n",
              "    }\n",
              "\n",
              "    .dataframe thead th {\n",
              "        text-align: right;\n",
              "    }\n",
              "</style>\n",
              "<table border=\"1\" class=\"dataframe\">\n",
              "  <thead>\n",
              "    <tr style=\"text-align: right;\">\n",
              "      <th></th>\n",
              "      <th>Close_x</th>\n",
              "    </tr>\n",
              "  </thead>\n",
              "  <tbody>\n",
              "    <tr>\n",
              "      <th>3254</th>\n",
              "      <td>38.20</td>\n",
              "    </tr>\n",
              "    <tr>\n",
              "      <th>3255</th>\n",
              "      <td>195.50</td>\n",
              "    </tr>\n",
              "    <tr>\n",
              "      <th>3256</th>\n",
              "      <td>144.00</td>\n",
              "    </tr>\n",
              "    <tr>\n",
              "      <th>3257</th>\n",
              "      <td>103.35</td>\n",
              "    </tr>\n",
              "    <tr>\n",
              "      <th>3258</th>\n",
              "      <td>78.40</td>\n",
              "    </tr>\n",
              "    <tr>\n",
              "      <th>...</th>\n",
              "      <td>...</td>\n",
              "    </tr>\n",
              "    <tr>\n",
              "      <th>355391</th>\n",
              "      <td>1.90</td>\n",
              "    </tr>\n",
              "    <tr>\n",
              "      <th>355393</th>\n",
              "      <td>1.40</td>\n",
              "    </tr>\n",
              "    <tr>\n",
              "      <th>355395</th>\n",
              "      <td>1.50</td>\n",
              "    </tr>\n",
              "    <tr>\n",
              "      <th>355397</th>\n",
              "      <td>1.25</td>\n",
              "    </tr>\n",
              "    <tr>\n",
              "      <th>355407</th>\n",
              "      <td>0.45</td>\n",
              "    </tr>\n",
              "  </tbody>\n",
              "</table>\n",
              "<p>104218 rows × 1 columns</p>\n",
              "</div>"
            ],
            "text/plain": [
              "        Close_x\n",
              "3254      38.20\n",
              "3255     195.50\n",
              "3256     144.00\n",
              "3257     103.35\n",
              "3258      78.40\n",
              "...         ...\n",
              "355391     1.90\n",
              "355393     1.40\n",
              "355395     1.50\n",
              "355397     1.25\n",
              "355407     0.45\n",
              "\n",
              "[104218 rows x 1 columns]"
            ]
          },
          "metadata": {
            "tags": []
          },
          "execution_count": 42
        }
      ]
    },
    {
      "cell_type": "code",
      "metadata": {
        "colab": {
          "base_uri": "https://localhost:8080/"
        },
        "id": "V6YCOIKGgPGG",
        "outputId": "5532feef-7c8b-4fa8-92f4-c53d5aa2c7e9"
      },
      "source": [
        "X_std = col_normalize(X, X_col)\n",
        "#y_std = col_normalize(y, y_col)\n",
        "y_std = y"
      ],
      "execution_count": 43,
      "outputs": [
        {
          "output_type": "stream",
          "text": [
            "/usr/local/lib/python3.7/dist-packages/ipykernel_launcher.py:4: SettingWithCopyWarning: \n",
            "A value is trying to be set on a copy of a slice from a DataFrame.\n",
            "Try using .loc[row_indexer,col_indexer] = value instead\n",
            "\n",
            "See the caveats in the documentation: https://pandas.pydata.org/pandas-docs/stable/user_guide/indexing.html#returning-a-view-versus-a-copy\n",
            "  after removing the cwd from sys.path.\n"
          ],
          "name": "stderr"
        }
      ]
    },
    {
      "cell_type": "code",
      "metadata": {
        "colab": {
          "base_uri": "https://localhost:8080/",
          "height": 204
        },
        "id": "lyx62nwvhRtj",
        "outputId": "66fe6d62-febc-4fb0-a153-9a986b9b3d9e"
      },
      "source": [
        "X_std.head()"
      ],
      "execution_count": 44,
      "outputs": [
        {
          "output_type": "execute_result",
          "data": {
            "text/html": [
              "<div>\n",
              "<style scoped>\n",
              "    .dataframe tbody tr th:only-of-type {\n",
              "        vertical-align: middle;\n",
              "    }\n",
              "\n",
              "    .dataframe tbody tr th {\n",
              "        vertical-align: top;\n",
              "    }\n",
              "\n",
              "    .dataframe thead th {\n",
              "        text-align: right;\n",
              "    }\n",
              "</style>\n",
              "<table border=\"1\" class=\"dataframe\">\n",
              "  <thead>\n",
              "    <tr style=\"text-align: right;\">\n",
              "      <th></th>\n",
              "      <th>Strike Price</th>\n",
              "      <th>Underlying</th>\n",
              "      <th>Duration</th>\n",
              "      <th>rate</th>\n",
              "      <th>sigma_20</th>\n",
              "    </tr>\n",
              "  </thead>\n",
              "  <tbody>\n",
              "    <tr>\n",
              "      <th>3254</th>\n",
              "      <td>-0.308309</td>\n",
              "      <td>-1.157127</td>\n",
              "      <td>0.309098</td>\n",
              "      <td>-3.162241</td>\n",
              "      <td>-0.005822</td>\n",
              "    </tr>\n",
              "    <tr>\n",
              "      <th>3255</th>\n",
              "      <td>-0.704670</td>\n",
              "      <td>-1.157127</td>\n",
              "      <td>0.309098</td>\n",
              "      <td>-3.162241</td>\n",
              "      <td>-0.005822</td>\n",
              "    </tr>\n",
              "    <tr>\n",
              "      <th>3256</th>\n",
              "      <td>-0.625398</td>\n",
              "      <td>-1.157127</td>\n",
              "      <td>0.309098</td>\n",
              "      <td>-3.162241</td>\n",
              "      <td>-0.005822</td>\n",
              "    </tr>\n",
              "    <tr>\n",
              "      <th>3257</th>\n",
              "      <td>-0.546126</td>\n",
              "      <td>-1.157127</td>\n",
              "      <td>0.309098</td>\n",
              "      <td>-3.162241</td>\n",
              "      <td>-0.005822</td>\n",
              "    </tr>\n",
              "    <tr>\n",
              "      <th>3258</th>\n",
              "      <td>-0.466854</td>\n",
              "      <td>-1.157127</td>\n",
              "      <td>0.309098</td>\n",
              "      <td>-3.162241</td>\n",
              "      <td>-0.005822</td>\n",
              "    </tr>\n",
              "  </tbody>\n",
              "</table>\n",
              "</div>"
            ],
            "text/plain": [
              "      Strike Price  Underlying  Duration      rate  sigma_20\n",
              "3254     -0.308309   -1.157127  0.309098 -3.162241 -0.005822\n",
              "3255     -0.704670   -1.157127  0.309098 -3.162241 -0.005822\n",
              "3256     -0.625398   -1.157127  0.309098 -3.162241 -0.005822\n",
              "3257     -0.546126   -1.157127  0.309098 -3.162241 -0.005822\n",
              "3258     -0.466854   -1.157127  0.309098 -3.162241 -0.005822"
            ]
          },
          "metadata": {
            "tags": []
          },
          "execution_count": 44
        }
      ]
    },
    {
      "cell_type": "code",
      "metadata": {
        "colab": {
          "base_uri": "https://localhost:8080/",
          "height": 297
        },
        "id": "YszPdqkiRm5f",
        "outputId": "87340136-a71d-4893-dee4-48c9b57316af"
      },
      "source": [
        "X_std.describe()"
      ],
      "execution_count": 45,
      "outputs": [
        {
          "output_type": "execute_result",
          "data": {
            "text/html": [
              "<div>\n",
              "<style scoped>\n",
              "    .dataframe tbody tr th:only-of-type {\n",
              "        vertical-align: middle;\n",
              "    }\n",
              "\n",
              "    .dataframe tbody tr th {\n",
              "        vertical-align: top;\n",
              "    }\n",
              "\n",
              "    .dataframe thead th {\n",
              "        text-align: right;\n",
              "    }\n",
              "</style>\n",
              "<table border=\"1\" class=\"dataframe\">\n",
              "  <thead>\n",
              "    <tr style=\"text-align: right;\">\n",
              "      <th></th>\n",
              "      <th>Strike Price</th>\n",
              "      <th>Underlying</th>\n",
              "      <th>Duration</th>\n",
              "      <th>rate</th>\n",
              "      <th>sigma_20</th>\n",
              "    </tr>\n",
              "  </thead>\n",
              "  <tbody>\n",
              "    <tr>\n",
              "      <th>count</th>\n",
              "      <td>1.042180e+05</td>\n",
              "      <td>1.042180e+05</td>\n",
              "      <td>1.042180e+05</td>\n",
              "      <td>1.042180e+05</td>\n",
              "      <td>1.042180e+05</td>\n",
              "    </tr>\n",
              "    <tr>\n",
              "      <th>mean</th>\n",
              "      <td>-1.658639e-14</td>\n",
              "      <td>2.626540e-13</td>\n",
              "      <td>1.829572e-14</td>\n",
              "      <td>-2.736347e-13</td>\n",
              "      <td>1.133848e-13</td>\n",
              "    </tr>\n",
              "    <tr>\n",
              "      <th>std</th>\n",
              "      <td>1.000005e+00</td>\n",
              "      <td>1.000005e+00</td>\n",
              "      <td>1.000005e+00</td>\n",
              "      <td>1.000005e+00</td>\n",
              "      <td>1.000005e+00</td>\n",
              "    </tr>\n",
              "    <tr>\n",
              "      <th>min</th>\n",
              "      <td>-3.082835e+00</td>\n",
              "      <td>-1.535650e+00</td>\n",
              "      <td>-9.594606e-01</td>\n",
              "      <td>-3.553858e+00</td>\n",
              "      <td>-1.866804e+00</td>\n",
              "    </tr>\n",
              "    <tr>\n",
              "      <th>25%</th>\n",
              "      <td>-6.253979e-01</td>\n",
              "      <td>-7.065201e-01</td>\n",
              "      <td>-6.496964e-01</td>\n",
              "      <td>-3.949120e-01</td>\n",
              "      <td>-6.762785e-01</td>\n",
              "    </tr>\n",
              "    <tr>\n",
              "      <th>50%</th>\n",
              "      <td>8.779282e-03</td>\n",
              "      <td>-2.152923e-01</td>\n",
              "      <td>-3.251815e-01</td>\n",
              "      <td>2.369397e-01</td>\n",
              "      <td>-1.480957e-01</td>\n",
              "    </tr>\n",
              "    <tr>\n",
              "      <th>75%</th>\n",
              "      <td>5.636843e-01</td>\n",
              "      <td>2.274357e-01</td>\n",
              "      <td>2.353442e-01</td>\n",
              "      <td>4.923967e-01</td>\n",
              "      <td>4.973911e-01</td>\n",
              "    </tr>\n",
              "    <tr>\n",
              "      <th>max</th>\n",
              "      <td>3.655298e+00</td>\n",
              "      <td>2.770300e+00</td>\n",
              "      <td>4.395035e+00</td>\n",
              "      <td>3.324511e+00</td>\n",
              "      <td>3.858516e+00</td>\n",
              "    </tr>\n",
              "  </tbody>\n",
              "</table>\n",
              "</div>"
            ],
            "text/plain": [
              "       Strike Price    Underlying      Duration          rate      sigma_20\n",
              "count  1.042180e+05  1.042180e+05  1.042180e+05  1.042180e+05  1.042180e+05\n",
              "mean  -1.658639e-14  2.626540e-13  1.829572e-14 -2.736347e-13  1.133848e-13\n",
              "std    1.000005e+00  1.000005e+00  1.000005e+00  1.000005e+00  1.000005e+00\n",
              "min   -3.082835e+00 -1.535650e+00 -9.594606e-01 -3.553858e+00 -1.866804e+00\n",
              "25%   -6.253979e-01 -7.065201e-01 -6.496964e-01 -3.949120e-01 -6.762785e-01\n",
              "50%    8.779282e-03 -2.152923e-01 -3.251815e-01  2.369397e-01 -1.480957e-01\n",
              "75%    5.636843e-01  2.274357e-01  2.353442e-01  4.923967e-01  4.973911e-01\n",
              "max    3.655298e+00  2.770300e+00  4.395035e+00  3.324511e+00  3.858516e+00"
            ]
          },
          "metadata": {
            "tags": []
          },
          "execution_count": 45
        }
      ]
    },
    {
      "cell_type": "code",
      "metadata": {
        "colab": {
          "base_uri": "https://localhost:8080/",
          "height": 204
        },
        "id": "33FZDU_Vhd3I",
        "outputId": "54f003d6-0acb-4f24-b8f3-80c9d0f4b3e0"
      },
      "source": [
        "y_std.head()"
      ],
      "execution_count": 46,
      "outputs": [
        {
          "output_type": "execute_result",
          "data": {
            "text/html": [
              "<div>\n",
              "<style scoped>\n",
              "    .dataframe tbody tr th:only-of-type {\n",
              "        vertical-align: middle;\n",
              "    }\n",
              "\n",
              "    .dataframe tbody tr th {\n",
              "        vertical-align: top;\n",
              "    }\n",
              "\n",
              "    .dataframe thead th {\n",
              "        text-align: right;\n",
              "    }\n",
              "</style>\n",
              "<table border=\"1\" class=\"dataframe\">\n",
              "  <thead>\n",
              "    <tr style=\"text-align: right;\">\n",
              "      <th></th>\n",
              "      <th>Close_x</th>\n",
              "    </tr>\n",
              "  </thead>\n",
              "  <tbody>\n",
              "    <tr>\n",
              "      <th>3254</th>\n",
              "      <td>38.20</td>\n",
              "    </tr>\n",
              "    <tr>\n",
              "      <th>3255</th>\n",
              "      <td>195.50</td>\n",
              "    </tr>\n",
              "    <tr>\n",
              "      <th>3256</th>\n",
              "      <td>144.00</td>\n",
              "    </tr>\n",
              "    <tr>\n",
              "      <th>3257</th>\n",
              "      <td>103.35</td>\n",
              "    </tr>\n",
              "    <tr>\n",
              "      <th>3258</th>\n",
              "      <td>78.40</td>\n",
              "    </tr>\n",
              "  </tbody>\n",
              "</table>\n",
              "</div>"
            ],
            "text/plain": [
              "      Close_x\n",
              "3254    38.20\n",
              "3255   195.50\n",
              "3256   144.00\n",
              "3257   103.35\n",
              "3258    78.40"
            ]
          },
          "metadata": {
            "tags": []
          },
          "execution_count": 46
        }
      ]
    },
    {
      "cell_type": "code",
      "metadata": {
        "id": "_PUXyFK4t9i7"
      },
      "source": [
        "call_X_train, call_X_test, call_y_train, call_y_test = train_test_split(X_std, y_std, test_size=0.1, random_state=42)"
      ],
      "execution_count": 47,
      "outputs": []
    },
    {
      "cell_type": "code",
      "metadata": {
        "colab": {
          "base_uri": "https://localhost:8080/",
          "height": 297
        },
        "id": "A5Dld1DqSvQO",
        "outputId": "6da4bfca-5df8-4cb4-ba76-ccb2ba7593b2"
      },
      "source": [
        "call_X_train.describe()"
      ],
      "execution_count": 48,
      "outputs": [
        {
          "output_type": "execute_result",
          "data": {
            "text/html": [
              "<div>\n",
              "<style scoped>\n",
              "    .dataframe tbody tr th:only-of-type {\n",
              "        vertical-align: middle;\n",
              "    }\n",
              "\n",
              "    .dataframe tbody tr th {\n",
              "        vertical-align: top;\n",
              "    }\n",
              "\n",
              "    .dataframe thead th {\n",
              "        text-align: right;\n",
              "    }\n",
              "</style>\n",
              "<table border=\"1\" class=\"dataframe\">\n",
              "  <thead>\n",
              "    <tr style=\"text-align: right;\">\n",
              "      <th></th>\n",
              "      <th>Strike Price</th>\n",
              "      <th>Underlying</th>\n",
              "      <th>Duration</th>\n",
              "      <th>rate</th>\n",
              "      <th>sigma_20</th>\n",
              "    </tr>\n",
              "  </thead>\n",
              "  <tbody>\n",
              "    <tr>\n",
              "      <th>count</th>\n",
              "      <td>93796.000000</td>\n",
              "      <td>93796.000000</td>\n",
              "      <td>93796.000000</td>\n",
              "      <td>93796.000000</td>\n",
              "      <td>93796.000000</td>\n",
              "    </tr>\n",
              "    <tr>\n",
              "      <th>mean</th>\n",
              "      <td>0.000195</td>\n",
              "      <td>0.001036</td>\n",
              "      <td>-0.001316</td>\n",
              "      <td>0.000925</td>\n",
              "      <td>-0.001506</td>\n",
              "    </tr>\n",
              "    <tr>\n",
              "      <th>std</th>\n",
              "      <td>1.000225</td>\n",
              "      <td>1.000717</td>\n",
              "      <td>0.996798</td>\n",
              "      <td>0.999468</td>\n",
              "      <td>0.998742</td>\n",
              "    </tr>\n",
              "    <tr>\n",
              "      <th>min</th>\n",
              "      <td>-3.082835</td>\n",
              "      <td>-1.535650</td>\n",
              "      <td>-0.959461</td>\n",
              "      <td>-3.553858</td>\n",
              "      <td>-1.866804</td>\n",
              "    </tr>\n",
              "    <tr>\n",
              "      <th>25%</th>\n",
              "      <td>-0.625398</td>\n",
              "      <td>-0.706520</td>\n",
              "      <td>-0.649696</td>\n",
              "      <td>-0.390623</td>\n",
              "      <td>-0.676279</td>\n",
              "    </tr>\n",
              "    <tr>\n",
              "      <th>50%</th>\n",
              "      <td>0.008779</td>\n",
              "      <td>-0.215292</td>\n",
              "      <td>-0.325182</td>\n",
              "      <td>0.237913</td>\n",
              "      <td>-0.152665</td>\n",
              "    </tr>\n",
              "    <tr>\n",
              "      <th>75%</th>\n",
              "      <td>0.563684</td>\n",
              "      <td>0.227436</td>\n",
              "      <td>0.235344</td>\n",
              "      <td>0.492397</td>\n",
              "      <td>0.493411</td>\n",
              "    </tr>\n",
              "    <tr>\n",
              "      <th>max</th>\n",
              "      <td>3.655298</td>\n",
              "      <td>2.770300</td>\n",
              "      <td>4.395035</td>\n",
              "      <td>3.324511</td>\n",
              "      <td>3.858516</td>\n",
              "    </tr>\n",
              "  </tbody>\n",
              "</table>\n",
              "</div>"
            ],
            "text/plain": [
              "       Strike Price    Underlying      Duration          rate      sigma_20\n",
              "count  93796.000000  93796.000000  93796.000000  93796.000000  93796.000000\n",
              "mean       0.000195      0.001036     -0.001316      0.000925     -0.001506\n",
              "std        1.000225      1.000717      0.996798      0.999468      0.998742\n",
              "min       -3.082835     -1.535650     -0.959461     -3.553858     -1.866804\n",
              "25%       -0.625398     -0.706520     -0.649696     -0.390623     -0.676279\n",
              "50%        0.008779     -0.215292     -0.325182      0.237913     -0.152665\n",
              "75%        0.563684      0.227436      0.235344      0.492397      0.493411\n",
              "max        3.655298      2.770300      4.395035      3.324511      3.858516"
            ]
          },
          "metadata": {
            "tags": []
          },
          "execution_count": 48
        }
      ]
    },
    {
      "cell_type": "code",
      "metadata": {
        "id": "vzUuUbCDrjkP"
      },
      "source": [
        "# Hyperparams\n",
        "n_units = 400\n",
        "n_batch = 4096"
      ],
      "execution_count": 49,
      "outputs": []
    },
    {
      "cell_type": "code",
      "metadata": {
        "id": "MWUwsMHEuLL8"
      },
      "source": [
        "model = Sequential()\n",
        "model.add(Dense(n_units, input_dim=call_X_train.shape[1]))\n",
        "model.add(LeakyReLU())\n",
        "\n",
        "model.add(Dense(n_units*2))\n",
        "model.add(BatchNormalization())\n",
        "model.add(LeakyReLU())\n",
        "\n",
        "model.add(Dense(n_units*3/2))\n",
        "model.add(BatchNormalization())\n",
        "model.add(LeakyReLU())\n",
        "\n",
        "model.add(Dense(n_units))\n",
        "model.add(BatchNormalization())\n",
        "model.add(LeakyReLU())\n",
        "\n",
        "model.add(Dense(1, activation='relu'))\n",
        "\n",
        "model.compile(loss='mse', optimizer=Adam())"
      ],
      "execution_count": 50,
      "outputs": []
    },
    {
      "cell_type": "code",
      "metadata": {
        "colab": {
          "base_uri": "https://localhost:8080/"
        },
        "id": "limCSwIAuN94",
        "outputId": "2e3e4ccb-b3db-4811-f7b4-a244adcaf061"
      },
      "source": [
        "model.summary()"
      ],
      "execution_count": 51,
      "outputs": [
        {
          "output_type": "stream",
          "text": [
            "Model: \"sequential\"\n",
            "_________________________________________________________________\n",
            "Layer (type)                 Output Shape              Param #   \n",
            "=================================================================\n",
            "dense (Dense)                (None, 400)               2400      \n",
            "_________________________________________________________________\n",
            "leaky_re_lu (LeakyReLU)      (None, 400)               0         \n",
            "_________________________________________________________________\n",
            "dense_1 (Dense)              (None, 800)               320800    \n",
            "_________________________________________________________________\n",
            "batch_normalization (BatchNo (None, 800)               3200      \n",
            "_________________________________________________________________\n",
            "leaky_re_lu_1 (LeakyReLU)    (None, 800)               0         \n",
            "_________________________________________________________________\n",
            "dense_2 (Dense)              (None, 600)               480600    \n",
            "_________________________________________________________________\n",
            "batch_normalization_1 (Batch (None, 600)               2400      \n",
            "_________________________________________________________________\n",
            "leaky_re_lu_2 (LeakyReLU)    (None, 600)               0         \n",
            "_________________________________________________________________\n",
            "dense_3 (Dense)              (None, 400)               240400    \n",
            "_________________________________________________________________\n",
            "batch_normalization_2 (Batch (None, 400)               1600      \n",
            "_________________________________________________________________\n",
            "leaky_re_lu_3 (LeakyReLU)    (None, 400)               0         \n",
            "_________________________________________________________________\n",
            "dense_4 (Dense)              (None, 1)                 401       \n",
            "=================================================================\n",
            "Total params: 1,051,801\n",
            "Trainable params: 1,048,201\n",
            "Non-trainable params: 3,600\n",
            "_________________________________________________________________\n"
          ],
          "name": "stdout"
        }
      ]
    },
    {
      "cell_type": "code",
      "metadata": {
        "colab": {
          "base_uri": "https://localhost:8080/"
        },
        "id": "8W1AQeb9uP97",
        "outputId": "0d54c3df-1493-4c1d-9523-6d3ccbf3051d"
      },
      "source": [
        "n_epochs = 80\n",
        "history = model.fit(call_X_train, call_y_train, \n",
        "                    batch_size=n_batch, epochs=n_epochs, \n",
        "                    validation_split = 0.05,\n",
        "                    callbacks=[TensorBoard()],\n",
        "                    verbose=1)"
      ],
      "execution_count": 52,
      "outputs": [
        {
          "output_type": "stream",
          "text": [
            "Epoch 1/80\n",
            "22/22 [==============================] - 13s 548ms/step - loss: 813999.9701 - val_loss: 733060.5000\n",
            "Epoch 2/80\n",
            "22/22 [==============================] - 11s 515ms/step - loss: 778735.2609 - val_loss: 726285.0000\n",
            "Epoch 3/80\n",
            "22/22 [==============================] - 11s 515ms/step - loss: 772787.9674 - val_loss: 725661.9375\n",
            "Epoch 4/80\n",
            "22/22 [==============================] - 11s 519ms/step - loss: 738997.7880 - val_loss: 724154.7500\n",
            "Epoch 5/80\n",
            "22/22 [==============================] - 11s 521ms/step - loss: 743624.5951 - val_loss: 721493.8750\n",
            "Epoch 6/80\n",
            "22/22 [==============================] - 11s 511ms/step - loss: 717324.8696 - val_loss: 716609.9375\n",
            "Epoch 7/80\n",
            "22/22 [==============================] - 11s 504ms/step - loss: 728147.2527 - val_loss: 708034.5625\n",
            "Epoch 8/80\n",
            "22/22 [==============================] - 11s 509ms/step - loss: 694356.1793 - val_loss: 695539.5625\n",
            "Epoch 9/80\n",
            "22/22 [==============================] - 11s 508ms/step - loss: 691700.7337 - val_loss: 682216.0625\n",
            "Epoch 10/80\n",
            "22/22 [==============================] - 11s 510ms/step - loss: 666254.5516 - val_loss: 662806.6250\n",
            "Epoch 11/80\n",
            "22/22 [==============================] - 11s 515ms/step - loss: 649686.4158 - val_loss: 641369.3125\n",
            "Epoch 12/80\n",
            "22/22 [==============================] - 11s 512ms/step - loss: 637506.4402 - val_loss: 615254.0000\n",
            "Epoch 13/80\n",
            "22/22 [==============================] - 11s 511ms/step - loss: 613879.0516 - val_loss: 592210.7500\n",
            "Epoch 14/80\n",
            "22/22 [==============================] - 11s 511ms/step - loss: 595394.1902 - val_loss: 566690.1250\n",
            "Epoch 15/80\n",
            "22/22 [==============================] - 11s 507ms/step - loss: 573630.9484 - val_loss: 539688.3125\n",
            "Epoch 16/80\n",
            "22/22 [==============================] - 11s 514ms/step - loss: 547847.1141 - val_loss: 515608.4062\n",
            "Epoch 17/80\n",
            "22/22 [==============================] - 11s 517ms/step - loss: 534614.5897 - val_loss: 488466.0000\n",
            "Epoch 18/80\n",
            "22/22 [==============================] - 11s 519ms/step - loss: 507175.1372 - val_loss: 456766.5938\n",
            "Epoch 19/80\n",
            "22/22 [==============================] - 11s 518ms/step - loss: 489692.1562 - val_loss: 408688.1250\n",
            "Epoch 20/80\n",
            "22/22 [==============================] - 11s 519ms/step - loss: 472679.9851 - val_loss: 392904.8750\n",
            "Epoch 21/80\n",
            "22/22 [==============================] - 12s 523ms/step - loss: 451517.5815 - val_loss: 365250.5938\n",
            "Epoch 22/80\n",
            "22/22 [==============================] - 12s 527ms/step - loss: 419184.1821 - val_loss: 349895.9688\n",
            "Epoch 23/80\n",
            "22/22 [==============================] - 12s 532ms/step - loss: 402943.4022 - val_loss: 340598.0000\n",
            "Epoch 24/80\n",
            "22/22 [==============================] - 12s 526ms/step - loss: 382960.6005 - val_loss: 296528.2812\n",
            "Epoch 25/80\n",
            "22/22 [==============================] - 12s 528ms/step - loss: 357536.8913 - val_loss: 269296.3750\n",
            "Epoch 26/80\n",
            "22/22 [==============================] - 12s 531ms/step - loss: 329644.5380 - val_loss: 251701.0000\n",
            "Epoch 27/80\n",
            "22/22 [==============================] - 12s 526ms/step - loss: 315501.0435 - val_loss: 216844.6094\n",
            "Epoch 28/80\n",
            "22/22 [==============================] - 12s 529ms/step - loss: 290662.8030 - val_loss: 183497.0469\n",
            "Epoch 29/80\n",
            "22/22 [==============================] - 12s 533ms/step - loss: 275526.1916 - val_loss: 146766.9375\n",
            "Epoch 30/80\n",
            "22/22 [==============================] - 12s 532ms/step - loss: 250479.2045 - val_loss: 114221.3672\n",
            "Epoch 31/80\n",
            "22/22 [==============================] - 12s 532ms/step - loss: 237516.3560 - val_loss: 122120.2031\n",
            "Epoch 32/80\n",
            "22/22 [==============================] - 12s 529ms/step - loss: 215231.2371 - val_loss: 116580.1484\n",
            "Epoch 33/80\n",
            "22/22 [==============================] - 12s 525ms/step - loss: 200236.2133 - val_loss: 97758.1094\n",
            "Epoch 34/80\n",
            "22/22 [==============================] - 12s 528ms/step - loss: 187041.0931 - val_loss: 70433.6328\n",
            "Epoch 35/80\n",
            "22/22 [==============================] - 12s 527ms/step - loss: 170578.4008 - val_loss: 66236.5078\n",
            "Epoch 36/80\n",
            "22/22 [==============================] - 11s 523ms/step - loss: 159480.0564 - val_loss: 64063.5078\n",
            "Epoch 37/80\n",
            "22/22 [==============================] - 12s 527ms/step - loss: 134091.5228 - val_loss: 54674.0039\n",
            "Epoch 38/80\n",
            "22/22 [==============================] - 12s 530ms/step - loss: 123468.9307 - val_loss: 53764.9805\n",
            "Epoch 39/80\n",
            "22/22 [==============================] - 12s 525ms/step - loss: 111062.8342 - val_loss: 63912.4531\n",
            "Epoch 40/80\n",
            "22/22 [==============================] - 12s 526ms/step - loss: 101238.7310 - val_loss: 38364.2109\n",
            "Epoch 41/80\n",
            "22/22 [==============================] - 12s 528ms/step - loss: 93566.3332 - val_loss: 22981.4082\n",
            "Epoch 42/80\n",
            "22/22 [==============================] - 12s 528ms/step - loss: 79980.6926 - val_loss: 13996.6895\n",
            "Epoch 43/80\n",
            "22/22 [==============================] - 12s 526ms/step - loss: 72484.1298 - val_loss: 14028.6631\n",
            "Epoch 44/80\n",
            "22/22 [==============================] - 12s 525ms/step - loss: 61302.7147 - val_loss: 11137.5820\n",
            "Epoch 45/80\n",
            "22/22 [==============================] - 12s 527ms/step - loss: 52484.6135 - val_loss: 5602.0356\n",
            "Epoch 46/80\n",
            "22/22 [==============================] - 12s 525ms/step - loss: 48081.9290 - val_loss: 7915.3184\n",
            "Epoch 47/80\n",
            "22/22 [==============================] - 12s 525ms/step - loss: 42254.3412 - val_loss: 10961.2725\n",
            "Epoch 48/80\n",
            "22/22 [==============================] - 12s 527ms/step - loss: 37464.0195 - val_loss: 9006.8008\n",
            "Epoch 49/80\n",
            "22/22 [==============================] - 12s 524ms/step - loss: 33153.9047 - val_loss: 1356.9412\n",
            "Epoch 50/80\n",
            "22/22 [==============================] - 11s 521ms/step - loss: 27603.5209 - val_loss: 2403.1843\n",
            "Epoch 51/80\n",
            "22/22 [==============================] - 11s 521ms/step - loss: 24282.5318 - val_loss: 3087.0576\n",
            "Epoch 52/80\n",
            "22/22 [==============================] - 11s 516ms/step - loss: 20105.4859 - val_loss: 4523.8496\n",
            "Epoch 53/80\n",
            "22/22 [==============================] - 11s 515ms/step - loss: 17258.8432 - val_loss: 3775.8601\n",
            "Epoch 54/80\n",
            "22/22 [==============================] - 11s 513ms/step - loss: 14665.8402 - val_loss: 1359.9603\n",
            "Epoch 55/80\n",
            "22/22 [==============================] - 11s 512ms/step - loss: 12082.5298 - val_loss: 2352.4504\n",
            "Epoch 56/80\n",
            "22/22 [==============================] - 11s 518ms/step - loss: 10388.5390 - val_loss: 6941.4370\n",
            "Epoch 57/80\n",
            "22/22 [==============================] - 12s 529ms/step - loss: 8183.2781 - val_loss: 6085.0767\n",
            "Epoch 58/80\n",
            "22/22 [==============================] - 12s 534ms/step - loss: 7546.3235 - val_loss: 3734.2815\n",
            "Epoch 59/80\n",
            "22/22 [==============================] - 12s 534ms/step - loss: 6553.5654 - val_loss: 2105.4917\n",
            "Epoch 60/80\n",
            "22/22 [==============================] - 12s 533ms/step - loss: 5852.3418 - val_loss: 1313.7622\n",
            "Epoch 61/80\n",
            "22/22 [==============================] - 12s 532ms/step - loss: 4970.0990 - val_loss: 2415.6123\n",
            "Epoch 62/80\n",
            "22/22 [==============================] - 12s 524ms/step - loss: 4040.8175 - val_loss: 2745.2893\n",
            "Epoch 63/80\n",
            "22/22 [==============================] - 12s 522ms/step - loss: 3699.7896 - val_loss: 2842.1860\n",
            "Epoch 64/80\n",
            "22/22 [==============================] - 11s 520ms/step - loss: 4617.4742 - val_loss: 3172.8123\n",
            "Epoch 65/80\n",
            "22/22 [==============================] - 12s 525ms/step - loss: 2869.5352 - val_loss: 4143.2017\n",
            "Epoch 66/80\n",
            "22/22 [==============================] - 12s 524ms/step - loss: 2661.0235 - val_loss: 3190.2568\n",
            "Epoch 67/80\n",
            "22/22 [==============================] - 12s 526ms/step - loss: 2344.9860 - val_loss: 4669.2373\n",
            "Epoch 68/80\n",
            "22/22 [==============================] - 12s 524ms/step - loss: 1942.0513 - val_loss: 7654.3037\n",
            "Epoch 69/80\n",
            "22/22 [==============================] - 12s 526ms/step - loss: 1648.1984 - val_loss: 5951.2520\n",
            "Epoch 70/80\n",
            "22/22 [==============================] - 12s 526ms/step - loss: 1912.8693 - val_loss: 9580.3867\n",
            "Epoch 71/80\n",
            "22/22 [==============================] - 12s 527ms/step - loss: 1317.5875 - val_loss: 6184.3193\n",
            "Epoch 72/80\n",
            "22/22 [==============================] - 12s 530ms/step - loss: 1827.6111 - val_loss: 8332.4141\n",
            "Epoch 73/80\n",
            "22/22 [==============================] - 12s 526ms/step - loss: 1340.4472 - val_loss: 5061.8413\n",
            "Epoch 74/80\n",
            "22/22 [==============================] - 12s 528ms/step - loss: 1426.3685 - val_loss: 3495.2422\n",
            "Epoch 75/80\n",
            "22/22 [==============================] - 12s 526ms/step - loss: 1440.7462 - val_loss: 4161.7046\n",
            "Epoch 76/80\n",
            "22/22 [==============================] - 12s 530ms/step - loss: 1266.5315 - val_loss: 3673.5884\n",
            "Epoch 77/80\n",
            "22/22 [==============================] - 12s 533ms/step - loss: 1059.8182 - val_loss: 5474.7153\n",
            "Epoch 78/80\n",
            "22/22 [==============================] - 12s 525ms/step - loss: 1285.7174 - val_loss: 8244.7217\n",
            "Epoch 79/80\n",
            "22/22 [==============================] - 11s 521ms/step - loss: 1085.9528 - val_loss: 6893.4316\n",
            "Epoch 80/80\n",
            "22/22 [==============================] - 12s 523ms/step - loss: 1499.6261 - val_loss: 3739.2039\n"
          ],
          "name": "stdout"
        }
      ]
    },
    {
      "cell_type": "code",
      "metadata": {
        "colab": {
          "base_uri": "https://localhost:8080/",
          "height": 295
        },
        "id": "E7KBy2xvuVY5",
        "outputId": "02d0c120-3b47-4993-fc49-6984414b58b6"
      },
      "source": [
        "loss = history.history['loss']\n",
        "val_loss = history.history['val_loss']\n",
        "\n",
        "epochs = range(len(loss))\n",
        "\n",
        "plt.figure()\n",
        "\n",
        "plt.plot(epochs, loss, 'r', label='Training Loss')\n",
        "plt.plot(epochs, val_loss, 'b', label='Validation Loss')\n",
        "plt.title('Training and validation loss')\n",
        "plt.xlabel('Epoch')\n",
        "plt.ylabel('Loss')\n",
        "plt.legend()\n",
        "\n",
        "plt.show()"
      ],
      "execution_count": 53,
      "outputs": [
        {
          "output_type": "display_data",
          "data": {
            "image/png": "[encoded data removed]",
            "text/plain": [
              "<Figure size 432x288 with 1 Axes>"
            ]
          },
          "metadata": {
            "tags": [],
            "needs_background": "light"
          }
        }
      ]
    },
    {
      "cell_type": "code",
      "metadata": {
        "id": "0eQZ2DkoioAC"
      },
      "source": [
        "y_pred = model.predict(call_X_test)"
      ],
      "execution_count": 54,
      "outputs": []
    },
    {
      "cell_type": "code",
      "metadata": {
        "colab": {
          "base_uri": "https://localhost:8080/"
        },
        "id": "QVgzpB_AUAa_",
        "outputId": "d89b32c1-3b30-4f25-d4c6-8e0418a4b497"
      },
      "source": [
        "y_pred"
      ],
      "execution_count": 55,
      "outputs": [
        {
          "output_type": "execute_result",
          "data": {
            "text/plain": [
              "array([[1448.8885 ],\n",
              "       [ 347.8747 ],\n",
              "       [4034.1812 ],\n",
              "       ...,\n",
              "       [ 923.59784],\n",
              "       [   0.     ],\n",
              "       [1730.0325 ]], dtype=float32)"
            ]
          },
          "metadata": {
            "tags": []
          },
          "execution_count": 55
        }
      ]
    },
    {
      "cell_type": "code",
      "metadata": {
        "colab": {
          "base_uri": "https://localhost:8080/",
          "height": 419
        },
        "id": "aQMzvKr0ZPM2",
        "outputId": "94a0afae-4b1d-47a2-ff16-f7c14e1729d4"
      },
      "source": [
        "call_y_test"
      ],
      "execution_count": 56,
      "outputs": [
        {
          "output_type": "execute_result",
          "data": {
            "text/html": [
              "<div>\n",
              "<style scoped>\n",
              "    .dataframe tbody tr th:only-of-type {\n",
              "        vertical-align: middle;\n",
              "    }\n",
              "\n",
              "    .dataframe tbody tr th {\n",
              "        vertical-align: top;\n",
              "    }\n",
              "\n",
              "    .dataframe thead th {\n",
              "        text-align: right;\n",
              "    }\n",
              "</style>\n",
              "<table border=\"1\" class=\"dataframe\">\n",
              "  <thead>\n",
              "    <tr style=\"text-align: right;\">\n",
              "      <th></th>\n",
              "      <th>Close_x</th>\n",
              "    </tr>\n",
              "  </thead>\n",
              "  <tbody>\n",
              "    <tr>\n",
              "      <th>241050</th>\n",
              "      <td>1363.65</td>\n",
              "    </tr>\n",
              "    <tr>\n",
              "      <th>24784</th>\n",
              "      <td>332.50</td>\n",
              "    </tr>\n",
              "    <tr>\n",
              "      <th>36514</th>\n",
              "      <td>3850.00</td>\n",
              "    </tr>\n",
              "    <tr>\n",
              "      <th>35703</th>\n",
              "      <td>865.00</td>\n",
              "    </tr>\n",
              "    <tr>\n",
              "      <th>57136</th>\n",
              "      <td>770.00</td>\n",
              "    </tr>\n",
              "    <tr>\n",
              "      <th>...</th>\n",
              "      <td>...</td>\n",
              "    </tr>\n",
              "    <tr>\n",
              "      <th>66147</th>\n",
              "      <td>830.05</td>\n",
              "    </tr>\n",
              "    <tr>\n",
              "      <th>298438</th>\n",
              "      <td>6.50</td>\n",
              "    </tr>\n",
              "    <tr>\n",
              "      <th>201147</th>\n",
              "      <td>871.00</td>\n",
              "    </tr>\n",
              "    <tr>\n",
              "      <th>173929</th>\n",
              "      <td>1.20</td>\n",
              "    </tr>\n",
              "    <tr>\n",
              "      <th>40233</th>\n",
              "      <td>1650.00</td>\n",
              "    </tr>\n",
              "  </tbody>\n",
              "</table>\n",
              "<p>10422 rows × 1 columns</p>\n",
              "</div>"
            ],
            "text/plain": [
              "        Close_x\n",
              "241050  1363.65\n",
              "24784    332.50\n",
              "36514   3850.00\n",
              "35703    865.00\n",
              "57136    770.00\n",
              "...         ...\n",
              "66147    830.05\n",
              "298438     6.50\n",
              "201147   871.00\n",
              "173929     1.20\n",
              "40233   1650.00\n",
              "\n",
              "[10422 rows x 1 columns]"
            ]
          },
          "metadata": {
            "tags": []
          },
          "execution_count": 56
        }
      ]
    },
    {
      "cell_type": "code",
      "metadata": {
        "colab": {
          "base_uri": "https://localhost:8080/"
        },
        "id": "Lra71NvyT8TT",
        "outputId": "a11917b7-a8e0-4b5b-e736-2571e8f84897"
      },
      "source": [
        "mse(y_pred, call_y_test)"
      ],
      "execution_count": 57,
      "outputs": [
        {
          "output_type": "execute_result",
          "data": {
            "text/plain": [
              "3935.0760793127497"
            ]
          },
          "metadata": {
            "tags": []
          },
          "execution_count": 57
        }
      ]
    },
    {
      "cell_type": "code",
      "metadata": {
        "colab": {
          "base_uri": "https://localhost:8080/"
        },
        "id": "NGp-4rg5ZSC1",
        "outputId": "89752008-bce2-4022-f137-adde31702262"
      },
      "source": [
        "mae(y_pred, call_y_test)"
      ],
      "execution_count": 61,
      "outputs": [
        {
          "output_type": "execute_result",
          "data": {
            "text/plain": [
              "36.2044118615504"
            ]
          },
          "metadata": {
            "tags": []
          },
          "execution_count": 61
        }
      ]
    },
    {
      "cell_type": "code",
      "metadata": {
        "colab": {
          "base_uri": "https://localhost:8080/"
        },
        "id": "Fr8H4Ia2k3uc",
        "outputId": "1f68ce09-ce98-4faf-d775-3c57237c7d9c"
      },
      "source": [
        "r2_score(y_pred, call_y_test)"
      ],
      "execution_count": 62,
      "outputs": [
        {
          "output_type": "execute_result",
          "data": {
            "text/plain": [
              "0.9939511890131015"
            ]
          },
          "metadata": {
            "tags": []
          },
          "execution_count": 62
        }
      ]
    },
    {
      "cell_type": "code",
      "metadata": {
        "id": "yTa7-rj2lCGj"
      },
      "source": [
        ""
      ],
      "execution_count": null,
      "outputs": []
    }
  ]
}