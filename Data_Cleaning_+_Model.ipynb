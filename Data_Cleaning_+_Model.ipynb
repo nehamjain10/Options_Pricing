{
  "nbformat": 4,
  "nbformat_minor": 0,
  "metadata": {
    "colab": {
      "name": "Data Cleaning + Model.ipynb",
      "provenance": [],
      "collapsed_sections": [],
      "include_colab_link": true
    },
    "kernelspec": {
      "name": "python3",
      "display_name": "Python 3"
    }
  },
  "cells": [
    {
      "cell_type": "markdown",
      "metadata": {
        "id": "view-in-github",
        "colab_type": "text"
      },
      "source": [
        "<a href=\"https://colab.research.google.com/github/nehamjain10/Options_Pricing/blob/main/Data_Cleaning_%2B_Model.ipynb\" target=\"_parent\"><img src=\"https://colab.research.google.com/assets/colab-badge.svg\" alt=\"Open In Colab\"/></a>"
      ]
    },
    {
      "cell_type": "code",
      "metadata": {
        "id": "gqEdM0lhWhAw"
      },
      "source": [
        "import pandas as pd\n",
        "import tensorflow as tf\n",
        "import numpy as np"
      ],
      "execution_count": 1,
      "outputs": []
    },
    {
      "cell_type": "code",
      "metadata": {
        "colab": {
          "base_uri": "https://localhost:8080/"
        },
        "id": "_1sGO9fpc0eS",
        "outputId": "093ecda0-9b42-42ef-c5d1-ed67508ea536"
      },
      "source": [
        "from google.colab import drive\n",
        "#drive.flush_and_unmount()\n",
        "drive.mount('/content/drive/')"
      ],
      "execution_count": 2,
      "outputs": [
        {
          "output_type": "stream",
          "text": [
            "Mounted at /content/drive/\n"
          ],
          "name": "stdout"
        }
      ]
    },
    {
      "cell_type": "code",
      "metadata": {
        "id": "i7rDUBTvW04h"
      },
      "source": [
        "df=pd.read_csv(\"/content/drive/MyDrive/DL materials/Options Pricing/final_data_interest_rate.csv\")"
      ],
      "execution_count": 72,
      "outputs": []
    },
    {
      "cell_type": "code",
      "metadata": {
        "id": "GoGX-GLzt1ka"
      },
      "source": [
        "columns=[\"Option Type\", \"Strike Price\" \"Close\", \"Underlying\", \"Durartion\", \"Rate\"]"
      ],
      "execution_count": 73,
      "outputs": []
    },
    {
      "cell_type": "code",
      "metadata": {
        "colab": {
          "base_uri": "https://localhost:8080/",
          "height": 326
        },
        "id": "qUb4NISMvQxb",
        "outputId": "6bde5aa9-235e-4938-be0f-0f4f65fd40d9"
      },
      "source": [
        "df.head()"
      ],
      "execution_count": 74,
      "outputs": [
        {
          "output_type": "execute_result",
          "data": {
            "text/html": [
              "<div>\n",
              "<style scoped>\n",
              "    .dataframe tbody tr th:only-of-type {\n",
              "        vertical-align: middle;\n",
              "    }\n",
              "\n",
              "    .dataframe tbody tr th {\n",
              "        vertical-align: top;\n",
              "    }\n",
              "\n",
              "    .dataframe thead th {\n",
              "        text-align: right;\n",
              "    }\n",
              "</style>\n",
              "<table border=\"1\" class=\"dataframe\">\n",
              "  <thead>\n",
              "    <tr style=\"text-align: right;\">\n",
              "      <th></th>\n",
              "      <th>Unnamed: 0</th>\n",
              "      <th>Date</th>\n",
              "      <th>Symbol</th>\n",
              "      <th>Expiry</th>\n",
              "      <th>Option Type</th>\n",
              "      <th>Strike Price</th>\n",
              "      <th>Open</th>\n",
              "      <th>High</th>\n",
              "      <th>Low</th>\n",
              "      <th>Close</th>\n",
              "      <th>Last</th>\n",
              "      <th>Settle Price</th>\n",
              "      <th>Number of Contracts</th>\n",
              "      <th>Turnover</th>\n",
              "      <th>Premium Turnover</th>\n",
              "      <th>Open Interest</th>\n",
              "      <th>Change in OI</th>\n",
              "      <th>Underlying</th>\n",
              "      <th>DateOfTrade</th>\n",
              "      <th>Duration</th>\n",
              "      <th>R1</th>\n",
              "      <th>R2</th>\n",
              "      <th>rate</th>\n",
              "    </tr>\n",
              "  </thead>\n",
              "  <tbody>\n",
              "    <tr>\n",
              "      <th>0</th>\n",
              "      <td>0</td>\n",
              "      <td>2010-01-04</td>\n",
              "      <td>NIFTY</td>\n",
              "      <td>2010-03-25</td>\n",
              "      <td>CE</td>\n",
              "      <td>2400.0</td>\n",
              "      <td>2799.00</td>\n",
              "      <td>2820.0</td>\n",
              "      <td>2780.00</td>\n",
              "      <td>2820.00</td>\n",
              "      <td>2820.0</td>\n",
              "      <td>2820.00</td>\n",
              "      <td>5</td>\n",
              "      <td>1.298000e+06</td>\n",
              "      <td>NaN</td>\n",
              "      <td>30550</td>\n",
              "      <td>100</td>\n",
              "      <td>5232.2</td>\n",
              "      <td>2010-01-04</td>\n",
              "      <td>80</td>\n",
              "      <td>3.35</td>\n",
              "      <td>4.959</td>\n",
              "      <td>3.291491</td>\n",
              "    </tr>\n",
              "    <tr>\n",
              "      <th>1</th>\n",
              "      <td>1</td>\n",
              "      <td>2010-01-04</td>\n",
              "      <td>NIFTY</td>\n",
              "      <td>2010-03-25</td>\n",
              "      <td>CE</td>\n",
              "      <td>5800.0</td>\n",
              "      <td>45.05</td>\n",
              "      <td>50.5</td>\n",
              "      <td>45.05</td>\n",
              "      <td>47.80</td>\n",
              "      <td>50.0</td>\n",
              "      <td>47.80</td>\n",
              "      <td>3544</td>\n",
              "      <td>1.036386e+09</td>\n",
              "      <td>NaN</td>\n",
              "      <td>179450</td>\n",
              "      <td>160750</td>\n",
              "      <td>5232.2</td>\n",
              "      <td>2010-01-04</td>\n",
              "      <td>80</td>\n",
              "      <td>3.35</td>\n",
              "      <td>4.959</td>\n",
              "      <td>3.291491</td>\n",
              "    </tr>\n",
              "    <tr>\n",
              "      <th>2</th>\n",
              "      <td>2</td>\n",
              "      <td>2010-01-04</td>\n",
              "      <td>NIFTY</td>\n",
              "      <td>2010-03-25</td>\n",
              "      <td>CE</td>\n",
              "      <td>2600.0</td>\n",
              "      <td>0.00</td>\n",
              "      <td>0.0</td>\n",
              "      <td>0.00</td>\n",
              "      <td>866.70</td>\n",
              "      <td>0.0</td>\n",
              "      <td>2657.80</td>\n",
              "      <td>0</td>\n",
              "      <td>0.000000e+00</td>\n",
              "      <td>NaN</td>\n",
              "      <td>0</td>\n",
              "      <td>0</td>\n",
              "      <td>5232.2</td>\n",
              "      <td>2010-01-04</td>\n",
              "      <td>80</td>\n",
              "      <td>3.35</td>\n",
              "      <td>4.959</td>\n",
              "      <td>3.291491</td>\n",
              "    </tr>\n",
              "    <tr>\n",
              "      <th>3</th>\n",
              "      <td>3</td>\n",
              "      <td>2010-01-04</td>\n",
              "      <td>NIFTY</td>\n",
              "      <td>2010-03-25</td>\n",
              "      <td>CE</td>\n",
              "      <td>2700.0</td>\n",
              "      <td>0.00</td>\n",
              "      <td>0.0</td>\n",
              "      <td>0.00</td>\n",
              "      <td>808.15</td>\n",
              "      <td>0.0</td>\n",
              "      <td>2558.80</td>\n",
              "      <td>0</td>\n",
              "      <td>0.000000e+00</td>\n",
              "      <td>NaN</td>\n",
              "      <td>0</td>\n",
              "      <td>0</td>\n",
              "      <td>5232.2</td>\n",
              "      <td>2010-01-04</td>\n",
              "      <td>80</td>\n",
              "      <td>3.35</td>\n",
              "      <td>4.959</td>\n",
              "      <td>3.291491</td>\n",
              "    </tr>\n",
              "    <tr>\n",
              "      <th>4</th>\n",
              "      <td>4</td>\n",
              "      <td>2010-01-04</td>\n",
              "      <td>NIFTY</td>\n",
              "      <td>2010-03-25</td>\n",
              "      <td>CE</td>\n",
              "      <td>2800.0</td>\n",
              "      <td>0.00</td>\n",
              "      <td>0.0</td>\n",
              "      <td>0.00</td>\n",
              "      <td>752.70</td>\n",
              "      <td>0.0</td>\n",
              "      <td>2459.75</td>\n",
              "      <td>0</td>\n",
              "      <td>0.000000e+00</td>\n",
              "      <td>NaN</td>\n",
              "      <td>0</td>\n",
              "      <td>0</td>\n",
              "      <td>5232.2</td>\n",
              "      <td>2010-01-04</td>\n",
              "      <td>80</td>\n",
              "      <td>3.35</td>\n",
              "      <td>4.959</td>\n",
              "      <td>3.291491</td>\n",
              "    </tr>\n",
              "  </tbody>\n",
              "</table>\n",
              "</div>"
            ],
            "text/plain": [
              "   Unnamed: 0        Date Symbol      Expiry  ... Duration    R1     R2      rate\n",
              "0           0  2010-01-04  NIFTY  2010-03-25  ...       80  3.35  4.959  3.291491\n",
              "1           1  2010-01-04  NIFTY  2010-03-25  ...       80  3.35  4.959  3.291491\n",
              "2           2  2010-01-04  NIFTY  2010-03-25  ...       80  3.35  4.959  3.291491\n",
              "3           3  2010-01-04  NIFTY  2010-03-25  ...       80  3.35  4.959  3.291491\n",
              "4           4  2010-01-04  NIFTY  2010-03-25  ...       80  3.35  4.959  3.291491\n",
              "\n",
              "[5 rows x 23 columns]"
            ]
          },
          "metadata": {
            "tags": []
          },
          "execution_count": 74
        }
      ]
    },
    {
      "cell_type": "code",
      "metadata": {
        "colab": {
          "base_uri": "https://localhost:8080/"
        },
        "id": "DIW20SwaHwHH",
        "outputId": "be31aa18-a5d5-41a9-8abc-5cfbfb63ca6e"
      },
      "source": [
        "df.shape"
      ],
      "execution_count": 75,
      "outputs": [
        {
          "output_type": "execute_result",
          "data": {
            "text/plain": [
              "(1138013, 23)"
            ]
          },
          "metadata": {
            "tags": []
          },
          "execution_count": 75
        }
      ]
    },
    {
      "cell_type": "code",
      "metadata": {
        "id": "QxJ-PGT1Gkzd"
      },
      "source": [
        "underlying = pd.read_csv(\"/content/drive/MyDrive/DL materials/Options Pricing/underlying.csv\")"
      ],
      "execution_count": 76,
      "outputs": []
    },
    {
      "cell_type": "code",
      "metadata": {
        "id": "Z4FPxjjpG1UY"
      },
      "source": [
        "underlying[\"Date\"] = underlying[\"0\"]"
      ],
      "execution_count": 77,
      "outputs": []
    },
    {
      "cell_type": "code",
      "metadata": {
        "id": "fV8jN0KpHFYJ"
      },
      "source": [
        "col1 = [\"Close\", \"Date\"]"
      ],
      "execution_count": 78,
      "outputs": []
    },
    {
      "cell_type": "code",
      "metadata": {
        "id": "rINP13YEHBz1"
      },
      "source": [
        "underlying = underlying[col1]"
      ],
      "execution_count": 79,
      "outputs": []
    },
    {
      "cell_type": "code",
      "metadata": {
        "colab": {
          "base_uri": "https://localhost:8080/"
        },
        "id": "yy5Nvqe7J7fE",
        "outputId": "97ba017a-73db-48ae-d817-1b62119f4945"
      },
      "source": [
        "underlying.shape"
      ],
      "execution_count": 80,
      "outputs": [
        {
          "output_type": "execute_result",
          "data": {
            "text/plain": [
              "(1244, 2)"
            ]
          },
          "metadata": {
            "tags": []
          },
          "execution_count": 80
        }
      ]
    },
    {
      "cell_type": "code",
      "metadata": {
        "id": "wgZbfV1pHTsc"
      },
      "source": [
        "underlying['sigma_20'] = underlying.Close.rolling(20).apply(lambda x: (np.diff(x) / x[:-1]).std())"
      ],
      "execution_count": 81,
      "outputs": []
    },
    {
      "cell_type": "code",
      "metadata": {
        "colab": {
          "base_uri": "https://localhost:8080/"
        },
        "id": "AQxgWHZpMGhy",
        "outputId": "e05b6c5c-2187-4c64-cb71-e30686ff2c75"
      },
      "source": [
        "underlying[\"Close\"]"
      ],
      "execution_count": 82,
      "outputs": [
        {
          "output_type": "execute_result",
          "data": {
            "text/plain": [
              "0       5232.20\n",
              "1       5277.90\n",
              "2       5281.80\n",
              "3       5263.10\n",
              "4       5244.75\n",
              "         ...   \n",
              "1239    8174.10\n",
              "1240    8200.70\n",
              "1241    8246.30\n",
              "1242    8248.25\n",
              "1243    8282.70\n",
              "Name: Close, Length: 1244, dtype: float64"
            ]
          },
          "metadata": {
            "tags": []
          },
          "execution_count": 82
        }
      ]
    },
    {
      "cell_type": "code",
      "metadata": {
        "id": "_Ti8Tk3kK51R"
      },
      "source": [
        "import matplotlib.pyplot as plt"
      ],
      "execution_count": 83,
      "outputs": []
    },
    {
      "cell_type": "code",
      "metadata": {
        "id": "7cukOpwiK7c8",
        "colab": {
          "base_uri": "https://localhost:8080/",
          "height": 282
        },
        "outputId": "5ee9e8c6-a73f-40a5-b5cd-34c775e1dc08"
      },
      "source": [
        "plt.plot(underlying.sigma_20)"
      ],
      "execution_count": 84,
      "outputs": [
        {
          "output_type": "execute_result",
          "data": {
            "text/plain": [
              "[<matplotlib.lines.Line2D at 0x7f0b79cb83d0>]"
            ]
          },
          "metadata": {
            "tags": []
          },
          "execution_count": 84
        },
        {
          "output_type": "display_data",
          "data": {
            "image/png": "[encoded data removed]",
            "text/plain": [
              "<Figure size 432x288 with 1 Axes>"
            ]
          },
          "metadata": {
            "tags": [],
            "needs_background": "light"
          }
        }
      ]
    },
    {
      "cell_type": "code",
      "metadata": {
        "id": "OYFR7qCe2vZS"
      },
      "source": [
        "joined = df.merge(underlying, on = \"Date\")"
      ],
      "execution_count": 85,
      "outputs": []
    },
    {
      "cell_type": "code",
      "metadata": {
        "colab": {
          "base_uri": "https://localhost:8080/"
        },
        "id": "U1GErZTRNHzA",
        "outputId": "b1e200b5-f869-42e1-a7f1-34fda5e25a12"
      },
      "source": [
        "joined.shape"
      ],
      "execution_count": 86,
      "outputs": [
        {
          "output_type": "execute_result",
          "data": {
            "text/plain": [
              "(355468, 25)"
            ]
          },
          "metadata": {
            "tags": []
          },
          "execution_count": 86
        }
      ]
    },
    {
      "cell_type": "code",
      "metadata": {
        "colab": {
          "base_uri": "https://localhost:8080/"
        },
        "id": "1rlesSrqMbLm",
        "outputId": "6cc0fbed-a94f-405f-cde8-861f366231be"
      },
      "source": [
        "joined.columns"
      ],
      "execution_count": 87,
      "outputs": [
        {
          "output_type": "execute_result",
          "data": {
            "text/plain": [
              "Index(['Unnamed: 0', 'Date', 'Symbol', 'Expiry', 'Option Type', 'Strike Price',\n",
              "       'Open', 'High', 'Low', 'Close_x', 'Last', 'Settle Price',\n",
              "       'Number of Contracts', 'Turnover', 'Premium Turnover', 'Open Interest',\n",
              "       'Change in OI', 'Underlying', 'DateOfTrade', 'Duration', 'R1', 'R2',\n",
              "       'rate', 'Close_y', 'sigma_20'],\n",
              "      dtype='object')"
            ]
          },
          "metadata": {
            "tags": []
          },
          "execution_count": 87
        }
      ]
    },
    {
      "cell_type": "code",
      "metadata": {
        "id": "9_hdJgJnIeJs"
      },
      "source": [
        "col2 = joined.columns"
      ],
      "execution_count": 88,
      "outputs": []
    },
    {
      "cell_type": "code",
      "metadata": {
        "id": "BMnQNT_RHqCh"
      },
      "source": [
        "final = joined[col2]"
      ],
      "execution_count": 89,
      "outputs": []
    },
    {
      "cell_type": "code",
      "metadata": {
        "colab": {
          "base_uri": "https://localhost:8080/",
          "height": 326
        },
        "id": "9t2a_87bSUDD",
        "outputId": "bba6fe39-1677-45e4-956b-8019282d17b5"
      },
      "source": [
        "final.head()"
      ],
      "execution_count": 90,
      "outputs": [
        {
          "output_type": "execute_result",
          "data": {
            "text/html": [
              "<div>\n",
              "<style scoped>\n",
              "    .dataframe tbody tr th:only-of-type {\n",
              "        vertical-align: middle;\n",
              "    }\n",
              "\n",
              "    .dataframe tbody tr th {\n",
              "        vertical-align: top;\n",
              "    }\n",
              "\n",
              "    .dataframe thead th {\n",
              "        text-align: right;\n",
              "    }\n",
              "</style>\n",
              "<table border=\"1\" class=\"dataframe\">\n",
              "  <thead>\n",
              "    <tr style=\"text-align: right;\">\n",
              "      <th></th>\n",
              "      <th>Unnamed: 0</th>\n",
              "      <th>Date</th>\n",
              "      <th>Symbol</th>\n",
              "      <th>Expiry</th>\n",
              "      <th>Option Type</th>\n",
              "      <th>Strike Price</th>\n",
              "      <th>Open</th>\n",
              "      <th>High</th>\n",
              "      <th>Low</th>\n",
              "      <th>Close_x</th>\n",
              "      <th>Last</th>\n",
              "      <th>Settle Price</th>\n",
              "      <th>Number of Contracts</th>\n",
              "      <th>Turnover</th>\n",
              "      <th>Premium Turnover</th>\n",
              "      <th>Open Interest</th>\n",
              "      <th>Change in OI</th>\n",
              "      <th>Underlying</th>\n",
              "      <th>DateOfTrade</th>\n",
              "      <th>Duration</th>\n",
              "      <th>R1</th>\n",
              "      <th>R2</th>\n",
              "      <th>rate</th>\n",
              "      <th>Close_y</th>\n",
              "      <th>sigma_20</th>\n",
              "    </tr>\n",
              "  </thead>\n",
              "  <tbody>\n",
              "    <tr>\n",
              "      <th>0</th>\n",
              "      <td>0</td>\n",
              "      <td>2010-01-04</td>\n",
              "      <td>NIFTY</td>\n",
              "      <td>2010-03-25</td>\n",
              "      <td>CE</td>\n",
              "      <td>2400.0</td>\n",
              "      <td>2799.00</td>\n",
              "      <td>2820.0</td>\n",
              "      <td>2780.00</td>\n",
              "      <td>2820.00</td>\n",
              "      <td>2820.0</td>\n",
              "      <td>2820.00</td>\n",
              "      <td>5</td>\n",
              "      <td>1.298000e+06</td>\n",
              "      <td>NaN</td>\n",
              "      <td>30550</td>\n",
              "      <td>100</td>\n",
              "      <td>5232.2</td>\n",
              "      <td>2010-01-04</td>\n",
              "      <td>80</td>\n",
              "      <td>3.35</td>\n",
              "      <td>4.959</td>\n",
              "      <td>3.291491</td>\n",
              "      <td>5232.2</td>\n",
              "      <td>NaN</td>\n",
              "    </tr>\n",
              "    <tr>\n",
              "      <th>1</th>\n",
              "      <td>1</td>\n",
              "      <td>2010-01-04</td>\n",
              "      <td>NIFTY</td>\n",
              "      <td>2010-03-25</td>\n",
              "      <td>CE</td>\n",
              "      <td>5800.0</td>\n",
              "      <td>45.05</td>\n",
              "      <td>50.5</td>\n",
              "      <td>45.05</td>\n",
              "      <td>47.80</td>\n",
              "      <td>50.0</td>\n",
              "      <td>47.80</td>\n",
              "      <td>3544</td>\n",
              "      <td>1.036386e+09</td>\n",
              "      <td>NaN</td>\n",
              "      <td>179450</td>\n",
              "      <td>160750</td>\n",
              "      <td>5232.2</td>\n",
              "      <td>2010-01-04</td>\n",
              "      <td>80</td>\n",
              "      <td>3.35</td>\n",
              "      <td>4.959</td>\n",
              "      <td>3.291491</td>\n",
              "      <td>5232.2</td>\n",
              "      <td>NaN</td>\n",
              "    </tr>\n",
              "    <tr>\n",
              "      <th>2</th>\n",
              "      <td>2</td>\n",
              "      <td>2010-01-04</td>\n",
              "      <td>NIFTY</td>\n",
              "      <td>2010-03-25</td>\n",
              "      <td>CE</td>\n",
              "      <td>2600.0</td>\n",
              "      <td>0.00</td>\n",
              "      <td>0.0</td>\n",
              "      <td>0.00</td>\n",
              "      <td>866.70</td>\n",
              "      <td>0.0</td>\n",
              "      <td>2657.80</td>\n",
              "      <td>0</td>\n",
              "      <td>0.000000e+00</td>\n",
              "      <td>NaN</td>\n",
              "      <td>0</td>\n",
              "      <td>0</td>\n",
              "      <td>5232.2</td>\n",
              "      <td>2010-01-04</td>\n",
              "      <td>80</td>\n",
              "      <td>3.35</td>\n",
              "      <td>4.959</td>\n",
              "      <td>3.291491</td>\n",
              "      <td>5232.2</td>\n",
              "      <td>NaN</td>\n",
              "    </tr>\n",
              "    <tr>\n",
              "      <th>3</th>\n",
              "      <td>3</td>\n",
              "      <td>2010-01-04</td>\n",
              "      <td>NIFTY</td>\n",
              "      <td>2010-03-25</td>\n",
              "      <td>CE</td>\n",
              "      <td>2700.0</td>\n",
              "      <td>0.00</td>\n",
              "      <td>0.0</td>\n",
              "      <td>0.00</td>\n",
              "      <td>808.15</td>\n",
              "      <td>0.0</td>\n",
              "      <td>2558.80</td>\n",
              "      <td>0</td>\n",
              "      <td>0.000000e+00</td>\n",
              "      <td>NaN</td>\n",
              "      <td>0</td>\n",
              "      <td>0</td>\n",
              "      <td>5232.2</td>\n",
              "      <td>2010-01-04</td>\n",
              "      <td>80</td>\n",
              "      <td>3.35</td>\n",
              "      <td>4.959</td>\n",
              "      <td>3.291491</td>\n",
              "      <td>5232.2</td>\n",
              "      <td>NaN</td>\n",
              "    </tr>\n",
              "    <tr>\n",
              "      <th>4</th>\n",
              "      <td>4</td>\n",
              "      <td>2010-01-04</td>\n",
              "      <td>NIFTY</td>\n",
              "      <td>2010-03-25</td>\n",
              "      <td>CE</td>\n",
              "      <td>2800.0</td>\n",
              "      <td>0.00</td>\n",
              "      <td>0.0</td>\n",
              "      <td>0.00</td>\n",
              "      <td>752.70</td>\n",
              "      <td>0.0</td>\n",
              "      <td>2459.75</td>\n",
              "      <td>0</td>\n",
              "      <td>0.000000e+00</td>\n",
              "      <td>NaN</td>\n",
              "      <td>0</td>\n",
              "      <td>0</td>\n",
              "      <td>5232.2</td>\n",
              "      <td>2010-01-04</td>\n",
              "      <td>80</td>\n",
              "      <td>3.35</td>\n",
              "      <td>4.959</td>\n",
              "      <td>3.291491</td>\n",
              "      <td>5232.2</td>\n",
              "      <td>NaN</td>\n",
              "    </tr>\n",
              "  </tbody>\n",
              "</table>\n",
              "</div>"
            ],
            "text/plain": [
              "   Unnamed: 0        Date Symbol  ...      rate Close_y  sigma_20\n",
              "0           0  2010-01-04  NIFTY  ...  3.291491  5232.2       NaN\n",
              "1           1  2010-01-04  NIFTY  ...  3.291491  5232.2       NaN\n",
              "2           2  2010-01-04  NIFTY  ...  3.291491  5232.2       NaN\n",
              "3           3  2010-01-04  NIFTY  ...  3.291491  5232.2       NaN\n",
              "4           4  2010-01-04  NIFTY  ...  3.291491  5232.2       NaN\n",
              "\n",
              "[5 rows x 25 columns]"
            ]
          },
          "metadata": {
            "tags": []
          },
          "execution_count": 90
        }
      ]
    },
    {
      "cell_type": "code",
      "metadata": {
        "colab": {
          "base_uri": "https://localhost:8080/"
        },
        "id": "RnLO8AWTm5OG",
        "outputId": "c48478f6-dede-4b83-db54-fa389091cf49"
      },
      "source": [
        "final.shape"
      ],
      "execution_count": 91,
      "outputs": [
        {
          "output_type": "execute_result",
          "data": {
            "text/plain": [
              "(355468, 25)"
            ]
          },
          "metadata": {
            "tags": []
          },
          "execution_count": 91
        }
      ]
    },
    {
      "cell_type": "code",
      "metadata": {
        "id": "VIJkHN9TR__T"
      },
      "source": [
        "final = final[final[\"Turnover\"]>0]"
      ],
      "execution_count": 92,
      "outputs": []
    },
    {
      "cell_type": "code",
      "metadata": {
        "colab": {
          "base_uri": "https://localhost:8080/"
        },
        "id": "qTqoghrHm7V5",
        "outputId": "29cd6594-22ae-490e-967e-79db5d63114f"
      },
      "source": [
        "final.shape"
      ],
      "execution_count": 93,
      "outputs": [
        {
          "output_type": "execute_result",
          "data": {
            "text/plain": [
              "(105625, 25)"
            ]
          },
          "metadata": {
            "tags": []
          },
          "execution_count": 93
        }
      ]
    },
    {
      "cell_type": "code",
      "metadata": {
        "id": "sxX0Bd1aPOdn"
      },
      "source": [
        "from scipy.stats import norm"
      ],
      "execution_count": 94,
      "outputs": []
    },
    {
      "cell_type": "code",
      "metadata": {
        "id": "33HFKh3WOjcW"
      },
      "source": [
        "def black_scholes(row):\n",
        "    S = row.Underlying\n",
        "    X = row[\"Strike Price\"]\n",
        "    T = row.Duration / 365\n",
        "    r = row.rate / 100\n",
        "    σ = row.sigma_20\n",
        "    d1 = (np.log(S / X) + (r + (σ ** 2) / 2) * T) / (σ * (T ** .5))\n",
        "    d2 = d1 - σ * (T ** .5)\n",
        "    C = S * norm.cdf(d1) - X * np.exp(-r * T) * norm.cdf(d2)\n",
        "    return C"
      ],
      "execution_count": 95,
      "outputs": []
    },
    {
      "cell_type": "code",
      "metadata": {
        "id": "Jl4X6mqxOsAH"
      },
      "source": [
        "final['black_scholes_pred'] = final.apply(black_scholes, axis=1)"
      ],
      "execution_count": 96,
      "outputs": []
    },
    {
      "cell_type": "code",
      "metadata": {
        "id": "8nyujCeYP1l3"
      },
      "source": [
        "final[\"diff\"] = final[\"Close_x\"] - final[\"black_scholes_pred\"]"
      ],
      "execution_count": 97,
      "outputs": []
    },
    {
      "cell_type": "code",
      "metadata": {
        "colab": {
          "base_uri": "https://localhost:8080/"
        },
        "id": "WOYKKImFQCt-",
        "outputId": "c085a3d3-7a8b-4056-d5d3-ab94816bfff8"
      },
      "source": [
        "final[\"diff\"].describe()"
      ],
      "execution_count": 98,
      "outputs": [
        {
          "output_type": "execute_result",
          "data": {
            "text/plain": [
              "count    104218.000000\n",
              "mean         33.446151\n",
              "std          73.694852\n",
              "min        -740.981032\n",
              "25%           0.250000\n",
              "50%          11.212844\n",
              "75%          61.848096\n",
              "max         684.811051\n",
              "Name: diff, dtype: float64"
            ]
          },
          "metadata": {
            "tags": []
          },
          "execution_count": 98
        }
      ]
    },
    {
      "cell_type": "code",
      "metadata": {
        "id": "K2b0qNMkS857"
      },
      "source": [
        "col3=[\"Date\",\"Close_x\",\"Strike Price\", \"Underlying\", \"Duration\", \"rate\", \"sigma_20\"]"
      ],
      "execution_count": 99,
      "outputs": []
    },
    {
      "cell_type": "code",
      "metadata": {
        "id": "B7ynnT32T5_2"
      },
      "source": [
        "final = final[col3]"
      ],
      "execution_count": 100,
      "outputs": []
    },
    {
      "cell_type": "code",
      "metadata": {
        "colab": {
          "base_uri": "https://localhost:8080/"
        },
        "id": "6sD0tyILT8m2",
        "outputId": "824a0e36-cc0c-48da-9256-3932fefc0fe3"
      },
      "source": [
        "final.shape"
      ],
      "execution_count": 101,
      "outputs": [
        {
          "output_type": "execute_result",
          "data": {
            "text/plain": [
              "(105625, 7)"
            ]
          },
          "metadata": {
            "tags": []
          },
          "execution_count": 101
        }
      ]
    },
    {
      "cell_type": "code",
      "metadata": {
        "id": "bFyzz5G_UdV1"
      },
      "source": [
        "final = final.dropna()"
      ],
      "execution_count": 102,
      "outputs": []
    },
    {
      "cell_type": "code",
      "metadata": {
        "colab": {
          "base_uri": "https://localhost:8080/"
        },
        "id": "g6U3oBiYUf46",
        "outputId": "483d0548-1c1a-4454-ca67-f391b4ba35cb"
      },
      "source": [
        "final.shape"
      ],
      "execution_count": 103,
      "outputs": [
        {
          "output_type": "execute_result",
          "data": {
            "text/plain": [
              "(104218, 7)"
            ]
          },
          "metadata": {
            "tags": []
          },
          "execution_count": 103
        }
      ]
    },
    {
      "cell_type": "code",
      "metadata": {
        "id": "j11r_4eSoxgt"
      },
      "source": [
        "df = final"
      ],
      "execution_count": 104,
      "outputs": []
    },
    {
      "cell_type": "code",
      "metadata": {
        "colab": {
          "base_uri": "https://localhost:8080/",
          "height": 419
        },
        "id": "IpPZhvPvqlKW",
        "outputId": "5ecc940b-24c2-4f96-832c-76a11d252749"
      },
      "source": [
        "df"
      ],
      "execution_count": 105,
      "outputs": [
        {
          "output_type": "execute_result",
          "data": {
            "text/html": [
              "<div>\n",
              "<style scoped>\n",
              "    .dataframe tbody tr th:only-of-type {\n",
              "        vertical-align: middle;\n",
              "    }\n",
              "\n",
              "    .dataframe tbody tr th {\n",
              "        vertical-align: top;\n",
              "    }\n",
              "\n",
              "    .dataframe thead th {\n",
              "        text-align: right;\n",
              "    }\n",
              "</style>\n",
              "<table border=\"1\" class=\"dataframe\">\n",
              "  <thead>\n",
              "    <tr style=\"text-align: right;\">\n",
              "      <th></th>\n",
              "      <th>Date</th>\n",
              "      <th>Close_x</th>\n",
              "      <th>Strike Price</th>\n",
              "      <th>Underlying</th>\n",
              "      <th>Duration</th>\n",
              "      <th>rate</th>\n",
              "      <th>sigma_20</th>\n",
              "    </tr>\n",
              "  </thead>\n",
              "  <tbody>\n",
              "    <tr>\n",
              "      <th>3254</th>\n",
              "      <td>2010-02-01</td>\n",
              "      <td>38.20</td>\n",
              "      <td>5500.0</td>\n",
              "      <td>4899.7</td>\n",
              "      <td>87</td>\n",
              "      <td>3.991731</td>\n",
              "      <td>0.010098</td>\n",
              "    </tr>\n",
              "    <tr>\n",
              "      <th>3255</th>\n",
              "      <td>2010-02-01</td>\n",
              "      <td>195.50</td>\n",
              "      <td>5000.0</td>\n",
              "      <td>4899.7</td>\n",
              "      <td>87</td>\n",
              "      <td>3.991731</td>\n",
              "      <td>0.010098</td>\n",
              "    </tr>\n",
              "    <tr>\n",
              "      <th>3256</th>\n",
              "      <td>2010-02-01</td>\n",
              "      <td>144.00</td>\n",
              "      <td>5100.0</td>\n",
              "      <td>4899.7</td>\n",
              "      <td>87</td>\n",
              "      <td>3.991731</td>\n",
              "      <td>0.010098</td>\n",
              "    </tr>\n",
              "    <tr>\n",
              "      <th>3257</th>\n",
              "      <td>2010-02-01</td>\n",
              "      <td>103.35</td>\n",
              "      <td>5200.0</td>\n",
              "      <td>4899.7</td>\n",
              "      <td>87</td>\n",
              "      <td>3.991731</td>\n",
              "      <td>0.010098</td>\n",
              "    </tr>\n",
              "    <tr>\n",
              "      <th>3258</th>\n",
              "      <td>2010-02-01</td>\n",
              "      <td>78.40</td>\n",
              "      <td>5300.0</td>\n",
              "      <td>4899.7</td>\n",
              "      <td>87</td>\n",
              "      <td>3.991731</td>\n",
              "      <td>0.010098</td>\n",
              "    </tr>\n",
              "    <tr>\n",
              "      <th>...</th>\n",
              "      <td>...</td>\n",
              "      <td>...</td>\n",
              "      <td>...</td>\n",
              "      <td>...</td>\n",
              "      <td>...</td>\n",
              "      <td>...</td>\n",
              "      <td>...</td>\n",
              "    </tr>\n",
              "    <tr>\n",
              "      <th>355391</th>\n",
              "      <td>2014-12-31</td>\n",
              "      <td>1.90</td>\n",
              "      <td>9200.0</td>\n",
              "      <td>8282.7</td>\n",
              "      <td>29</td>\n",
              "      <td>8.380575</td>\n",
              "      <td>0.008940</td>\n",
              "    </tr>\n",
              "    <tr>\n",
              "      <th>355393</th>\n",
              "      <td>2014-12-31</td>\n",
              "      <td>1.40</td>\n",
              "      <td>9300.0</td>\n",
              "      <td>8282.7</td>\n",
              "      <td>29</td>\n",
              "      <td>8.380575</td>\n",
              "      <td>0.008940</td>\n",
              "    </tr>\n",
              "    <tr>\n",
              "      <th>355395</th>\n",
              "      <td>2014-12-31</td>\n",
              "      <td>1.50</td>\n",
              "      <td>9400.0</td>\n",
              "      <td>8282.7</td>\n",
              "      <td>29</td>\n",
              "      <td>8.380575</td>\n",
              "      <td>0.008940</td>\n",
              "    </tr>\n",
              "    <tr>\n",
              "      <th>355397</th>\n",
              "      <td>2014-12-31</td>\n",
              "      <td>1.25</td>\n",
              "      <td>9500.0</td>\n",
              "      <td>8282.7</td>\n",
              "      <td>29</td>\n",
              "      <td>8.380575</td>\n",
              "      <td>0.008940</td>\n",
              "    </tr>\n",
              "    <tr>\n",
              "      <th>355407</th>\n",
              "      <td>2014-12-31</td>\n",
              "      <td>0.45</td>\n",
              "      <td>10000.0</td>\n",
              "      <td>8282.7</td>\n",
              "      <td>29</td>\n",
              "      <td>8.380575</td>\n",
              "      <td>0.008940</td>\n",
              "    </tr>\n",
              "  </tbody>\n",
              "</table>\n",
              "<p>104218 rows × 7 columns</p>\n",
              "</div>"
            ],
            "text/plain": [
              "              Date  Close_x  Strike Price  ...  Duration      rate  sigma_20\n",
              "3254    2010-02-01    38.20        5500.0  ...        87  3.991731  0.010098\n",
              "3255    2010-02-01   195.50        5000.0  ...        87  3.991731  0.010098\n",
              "3256    2010-02-01   144.00        5100.0  ...        87  3.991731  0.010098\n",
              "3257    2010-02-01   103.35        5200.0  ...        87  3.991731  0.010098\n",
              "3258    2010-02-01    78.40        5300.0  ...        87  3.991731  0.010098\n",
              "...            ...      ...           ...  ...       ...       ...       ...\n",
              "355391  2014-12-31     1.90        9200.0  ...        29  8.380575  0.008940\n",
              "355393  2014-12-31     1.40        9300.0  ...        29  8.380575  0.008940\n",
              "355395  2014-12-31     1.50        9400.0  ...        29  8.380575  0.008940\n",
              "355397  2014-12-31     1.25        9500.0  ...        29  8.380575  0.008940\n",
              "355407  2014-12-31     0.45       10000.0  ...        29  8.380575  0.008940\n",
              "\n",
              "[104218 rows x 7 columns]"
            ]
          },
          "metadata": {
            "tags": []
          },
          "execution_count": 105
        }
      ]
    },
    {
      "cell_type": "code",
      "metadata": {
        "colab": {
          "base_uri": "https://localhost:8080/",
          "height": 297
        },
        "id": "aDrmpepesrZo",
        "outputId": "480d196c-049e-4a37-e3f8-8a55a62cdcf3"
      },
      "source": [
        "df.describe()"
      ],
      "execution_count": 106,
      "outputs": [
        {
          "output_type": "execute_result",
          "data": {
            "text/html": [
              "<div>\n",
              "<style scoped>\n",
              "    .dataframe tbody tr th:only-of-type {\n",
              "        vertical-align: middle;\n",
              "    }\n",
              "\n",
              "    .dataframe tbody tr th {\n",
              "        vertical-align: top;\n",
              "    }\n",
              "\n",
              "    .dataframe thead th {\n",
              "        text-align: right;\n",
              "    }\n",
              "</style>\n",
              "<table border=\"1\" class=\"dataframe\">\n",
              "  <thead>\n",
              "    <tr style=\"text-align: right;\">\n",
              "      <th></th>\n",
              "      <th>Close_x</th>\n",
              "      <th>Strike Price</th>\n",
              "      <th>Underlying</th>\n",
              "      <th>Duration</th>\n",
              "      <th>rate</th>\n",
              "      <th>sigma_20</th>\n",
              "    </tr>\n",
              "  </thead>\n",
              "  <tbody>\n",
              "    <tr>\n",
              "      <th>count</th>\n",
              "      <td>104218.000000</td>\n",
              "      <td>104218.000000</td>\n",
              "      <td>104218.000000</td>\n",
              "      <td>104218.000000</td>\n",
              "      <td>104218.000000</td>\n",
              "      <td>104218.000000</td>\n",
              "    </tr>\n",
              "    <tr>\n",
              "      <th>mean</th>\n",
              "      <td>494.971166</td>\n",
              "      <td>5888.925138</td>\n",
              "      <td>5986.447570</td>\n",
              "      <td>66.045194</td>\n",
              "      <td>8.043771</td>\n",
              "      <td>0.010117</td>\n",
              "    </tr>\n",
              "    <tr>\n",
              "      <th>std</th>\n",
              "      <td>753.126084</td>\n",
              "      <td>1261.483108</td>\n",
              "      <td>939.181647</td>\n",
              "      <td>67.793828</td>\n",
              "      <td>1.281389</td>\n",
              "      <td>0.003263</td>\n",
              "    </tr>\n",
              "    <tr>\n",
              "      <th>min</th>\n",
              "      <td>0.050000</td>\n",
              "      <td>2000.000000</td>\n",
              "      <td>4544.200000</td>\n",
              "      <td>1.000000</td>\n",
              "      <td>3.489920</td>\n",
              "      <td>0.004026</td>\n",
              "    </tr>\n",
              "    <tr>\n",
              "      <th>25%</th>\n",
              "      <td>19.100000</td>\n",
              "      <td>5100.000000</td>\n",
              "      <td>5322.900000</td>\n",
              "      <td>22.000000</td>\n",
              "      <td>7.537738</td>\n",
              "      <td>0.007911</td>\n",
              "    </tr>\n",
              "    <tr>\n",
              "      <th>50%</th>\n",
              "      <td>185.425000</td>\n",
              "      <td>5900.000000</td>\n",
              "      <td>5784.250000</td>\n",
              "      <td>44.000000</td>\n",
              "      <td>8.347382</td>\n",
              "      <td>0.009634</td>\n",
              "    </tr>\n",
              "    <tr>\n",
              "      <th>75%</th>\n",
              "      <td>656.487500</td>\n",
              "      <td>6600.000000</td>\n",
              "      <td>6200.050000</td>\n",
              "      <td>82.000000</td>\n",
              "      <td>8.674720</td>\n",
              "      <td>0.011740</td>\n",
              "    </tr>\n",
              "    <tr>\n",
              "      <th>max</th>\n",
              "      <td>5925.000000</td>\n",
              "      <td>10500.000000</td>\n",
              "      <td>8588.250000</td>\n",
              "      <td>364.000000</td>\n",
              "      <td>12.303742</td>\n",
              "      <td>0.022707</td>\n",
              "    </tr>\n",
              "  </tbody>\n",
              "</table>\n",
              "</div>"
            ],
            "text/plain": [
              "             Close_x   Strike Price  ...           rate       sigma_20\n",
              "count  104218.000000  104218.000000  ...  104218.000000  104218.000000\n",
              "mean      494.971166    5888.925138  ...       8.043771       0.010117\n",
              "std       753.126084    1261.483108  ...       1.281389       0.003263\n",
              "min         0.050000    2000.000000  ...       3.489920       0.004026\n",
              "25%        19.100000    5100.000000  ...       7.537738       0.007911\n",
              "50%       185.425000    5900.000000  ...       8.347382       0.009634\n",
              "75%       656.487500    6600.000000  ...       8.674720       0.011740\n",
              "max      5925.000000   10500.000000  ...      12.303742       0.022707\n",
              "\n",
              "[8 rows x 6 columns]"
            ]
          },
          "metadata": {
            "tags": []
          },
          "execution_count": 106
        }
      ]
    },
    {
      "cell_type": "code",
      "metadata": {
        "id": "-t7YjhluV3zD"
      },
      "source": [
        "from keras.models import Sequential\n",
        "from keras.layers import Dense, Activation, LeakyReLU, BatchNormalization\n",
        "from keras import backend\n",
        "from keras.callbacks import TensorBoard\n",
        "from keras.optimizers import Adam\n",
        "import pandas as pd\n",
        "import numpy as np\n",
        "\n",
        "from sklearn.model_selection import train_test_split\n",
        "from sklearn.metrics import mean_squared_error as mse\n",
        "from sklearn.metrics import roc_auc_score as ras\n",
        "from sklearn.preprocessing import StandardScaler\n",
        "from sklearn.decomposition import PCA"
      ],
      "execution_count": 107,
      "outputs": []
    },
    {
      "cell_type": "code",
      "metadata": {
        "id": "LwiM6eiwstSl"
      },
      "source": [
        "X_col = ['Strike Price', 'Underlying','Duration', 'rate', 'sigma_20']\n",
        "y_col = [\"Close_x\"]"
      ],
      "execution_count": 108,
      "outputs": []
    },
    {
      "cell_type": "code",
      "metadata": {
        "id": "iZYy-uIwgJfM"
      },
      "source": [
        "def col_normalize(df, cols = []):\n",
        "  scaler = StandardScaler()\n",
        "  for i in cols:\n",
        "    df[i] = (df[i] - np.mean(df[i]))/np.std(df[i])\n",
        "  return df\n",
        "\n",
        "def perform_pca(df_train, df_test, n_components):\n",
        "  pca = PCA(n_components = n_components, copy = True)\n",
        "  scaler = StandardScaler()\n",
        "\n",
        "\n",
        "  df_PC_train = pd.DataFrame(pca.fit_transform(df_train))\n",
        "  df_PC_train = pd.DataFrame(scaler.fit_transform(df_PC_train))\n",
        "\n",
        "  df_PC_test = pd.DataFrame(pca.transform(df_test))\n",
        "  df_PC_test = pd.DataFrame(scaler.fit_transform(df_PC_test))\n",
        "\n",
        "  return df_PC_train, df_PC_test"
      ],
      "execution_count": 109,
      "outputs": []
    },
    {
      "cell_type": "code",
      "metadata": {
        "id": "onN1z913t0Zy"
      },
      "source": [
        "X = df[X_col]\n",
        "y = df[y_col]"
      ],
      "execution_count": 110,
      "outputs": []
    },
    {
      "cell_type": "code",
      "metadata": {
        "colab": {
          "base_uri": "https://localhost:8080/",
          "height": 419
        },
        "id": "tw5oj4qLTsRu",
        "outputId": "ac84c0c0-d732-410f-d3d1-a75058b604df"
      },
      "source": [
        "y"
      ],
      "execution_count": 111,
      "outputs": [
        {
          "output_type": "execute_result",
          "data": {
            "text/html": [
              "<div>\n",
              "<style scoped>\n",
              "    .dataframe tbody tr th:only-of-type {\n",
              "        vertical-align: middle;\n",
              "    }\n",
              "\n",
              "    .dataframe tbody tr th {\n",
              "        vertical-align: top;\n",
              "    }\n",
              "\n",
              "    .dataframe thead th {\n",
              "        text-align: right;\n",
              "    }\n",
              "</style>\n",
              "<table border=\"1\" class=\"dataframe\">\n",
              "  <thead>\n",
              "    <tr style=\"text-align: right;\">\n",
              "      <th></th>\n",
              "      <th>Close_x</th>\n",
              "    </tr>\n",
              "  </thead>\n",
              "  <tbody>\n",
              "    <tr>\n",
              "      <th>3254</th>\n",
              "      <td>38.20</td>\n",
              "    </tr>\n",
              "    <tr>\n",
              "      <th>3255</th>\n",
              "      <td>195.50</td>\n",
              "    </tr>\n",
              "    <tr>\n",
              "      <th>3256</th>\n",
              "      <td>144.00</td>\n",
              "    </tr>\n",
              "    <tr>\n",
              "      <th>3257</th>\n",
              "      <td>103.35</td>\n",
              "    </tr>\n",
              "    <tr>\n",
              "      <th>3258</th>\n",
              "      <td>78.40</td>\n",
              "    </tr>\n",
              "    <tr>\n",
              "      <th>...</th>\n",
              "      <td>...</td>\n",
              "    </tr>\n",
              "    <tr>\n",
              "      <th>355391</th>\n",
              "      <td>1.90</td>\n",
              "    </tr>\n",
              "    <tr>\n",
              "      <th>355393</th>\n",
              "      <td>1.40</td>\n",
              "    </tr>\n",
              "    <tr>\n",
              "      <th>355395</th>\n",
              "      <td>1.50</td>\n",
              "    </tr>\n",
              "    <tr>\n",
              "      <th>355397</th>\n",
              "      <td>1.25</td>\n",
              "    </tr>\n",
              "    <tr>\n",
              "      <th>355407</th>\n",
              "      <td>0.45</td>\n",
              "    </tr>\n",
              "  </tbody>\n",
              "</table>\n",
              "<p>104218 rows × 1 columns</p>\n",
              "</div>"
            ],
            "text/plain": [
              "        Close_x\n",
              "3254      38.20\n",
              "3255     195.50\n",
              "3256     144.00\n",
              "3257     103.35\n",
              "3258      78.40\n",
              "...         ...\n",
              "355391     1.90\n",
              "355393     1.40\n",
              "355395     1.50\n",
              "355397     1.25\n",
              "355407     0.45\n",
              "\n",
              "[104218 rows x 1 columns]"
            ]
          },
          "metadata": {
            "tags": []
          },
          "execution_count": 111
        }
      ]
    },
    {
      "cell_type": "code",
      "metadata": {
        "colab": {
          "base_uri": "https://localhost:8080/"
        },
        "id": "V6YCOIKGgPGG",
        "outputId": "2a338a71-e892-45d7-b006-4c4839f004a1"
      },
      "source": [
        "X_std = col_normalize(X, X_col)\n",
        "#y_std = col_normalize(y, y_col)\n",
        "y_std = y"
      ],
      "execution_count": 112,
      "outputs": [
        {
          "output_type": "stream",
          "text": [
            "/usr/local/lib/python3.7/dist-packages/ipykernel_launcher.py:4: SettingWithCopyWarning: \n",
            "A value is trying to be set on a copy of a slice from a DataFrame.\n",
            "Try using .loc[row_indexer,col_indexer] = value instead\n",
            "\n",
            "See the caveats in the documentation: https://pandas.pydata.org/pandas-docs/stable/user_guide/indexing.html#returning-a-view-versus-a-copy\n",
            "  after removing the cwd from sys.path.\n"
          ],
          "name": "stderr"
        }
      ]
    },
    {
      "cell_type": "code",
      "metadata": {
        "colab": {
          "base_uri": "https://localhost:8080/",
          "height": 204
        },
        "id": "lyx62nwvhRtj",
        "outputId": "36bd6d51-126f-4599-b839-3664f3fce3c0"
      },
      "source": [
        "X_std.head()"
      ],
      "execution_count": 113,
      "outputs": [
        {
          "output_type": "execute_result",
          "data": {
            "text/html": [
              "<div>\n",
              "<style scoped>\n",
              "    .dataframe tbody tr th:only-of-type {\n",
              "        vertical-align: middle;\n",
              "    }\n",
              "\n",
              "    .dataframe tbody tr th {\n",
              "        vertical-align: top;\n",
              "    }\n",
              "\n",
              "    .dataframe thead th {\n",
              "        text-align: right;\n",
              "    }\n",
              "</style>\n",
              "<table border=\"1\" class=\"dataframe\">\n",
              "  <thead>\n",
              "    <tr style=\"text-align: right;\">\n",
              "      <th></th>\n",
              "      <th>Strike Price</th>\n",
              "      <th>Underlying</th>\n",
              "      <th>Duration</th>\n",
              "      <th>rate</th>\n",
              "      <th>sigma_20</th>\n",
              "    </tr>\n",
              "  </thead>\n",
              "  <tbody>\n",
              "    <tr>\n",
              "      <th>3254</th>\n",
              "      <td>-0.308309</td>\n",
              "      <td>-1.157127</td>\n",
              "      <td>0.309098</td>\n",
              "      <td>-3.162241</td>\n",
              "      <td>-0.005822</td>\n",
              "    </tr>\n",
              "    <tr>\n",
              "      <th>3255</th>\n",
              "      <td>-0.704670</td>\n",
              "      <td>-1.157127</td>\n",
              "      <td>0.309098</td>\n",
              "      <td>-3.162241</td>\n",
              "      <td>-0.005822</td>\n",
              "    </tr>\n",
              "    <tr>\n",
              "      <th>3256</th>\n",
              "      <td>-0.625398</td>\n",
              "      <td>-1.157127</td>\n",
              "      <td>0.309098</td>\n",
              "      <td>-3.162241</td>\n",
              "      <td>-0.005822</td>\n",
              "    </tr>\n",
              "    <tr>\n",
              "      <th>3257</th>\n",
              "      <td>-0.546126</td>\n",
              "      <td>-1.157127</td>\n",
              "      <td>0.309098</td>\n",
              "      <td>-3.162241</td>\n",
              "      <td>-0.005822</td>\n",
              "    </tr>\n",
              "    <tr>\n",
              "      <th>3258</th>\n",
              "      <td>-0.466854</td>\n",
              "      <td>-1.157127</td>\n",
              "      <td>0.309098</td>\n",
              "      <td>-3.162241</td>\n",
              "      <td>-0.005822</td>\n",
              "    </tr>\n",
              "  </tbody>\n",
              "</table>\n",
              "</div>"
            ],
            "text/plain": [
              "      Strike Price  Underlying  Duration      rate  sigma_20\n",
              "3254     -0.308309   -1.157127  0.309098 -3.162241 -0.005822\n",
              "3255     -0.704670   -1.157127  0.309098 -3.162241 -0.005822\n",
              "3256     -0.625398   -1.157127  0.309098 -3.162241 -0.005822\n",
              "3257     -0.546126   -1.157127  0.309098 -3.162241 -0.005822\n",
              "3258     -0.466854   -1.157127  0.309098 -3.162241 -0.005822"
            ]
          },
          "metadata": {
            "tags": []
          },
          "execution_count": 113
        }
      ]
    },
    {
      "cell_type": "code",
      "metadata": {
        "colab": {
          "base_uri": "https://localhost:8080/",
          "height": 297
        },
        "id": "YszPdqkiRm5f",
        "outputId": "686fba73-a0ba-4d81-b185-c3905a32b08f"
      },
      "source": [
        "X_std.describe()"
      ],
      "execution_count": 114,
      "outputs": [
        {
          "output_type": "execute_result",
          "data": {
            "text/html": [
              "<div>\n",
              "<style scoped>\n",
              "    .dataframe tbody tr th:only-of-type {\n",
              "        vertical-align: middle;\n",
              "    }\n",
              "\n",
              "    .dataframe tbody tr th {\n",
              "        vertical-align: top;\n",
              "    }\n",
              "\n",
              "    .dataframe thead th {\n",
              "        text-align: right;\n",
              "    }\n",
              "</style>\n",
              "<table border=\"1\" class=\"dataframe\">\n",
              "  <thead>\n",
              "    <tr style=\"text-align: right;\">\n",
              "      <th></th>\n",
              "      <th>Strike Price</th>\n",
              "      <th>Underlying</th>\n",
              "      <th>Duration</th>\n",
              "      <th>rate</th>\n",
              "      <th>sigma_20</th>\n",
              "    </tr>\n",
              "  </thead>\n",
              "  <tbody>\n",
              "    <tr>\n",
              "      <th>count</th>\n",
              "      <td>1.042180e+05</td>\n",
              "      <td>1.042180e+05</td>\n",
              "      <td>1.042180e+05</td>\n",
              "      <td>1.042180e+05</td>\n",
              "      <td>1.042180e+05</td>\n",
              "    </tr>\n",
              "    <tr>\n",
              "      <th>mean</th>\n",
              "      <td>-1.658639e-14</td>\n",
              "      <td>2.626540e-13</td>\n",
              "      <td>1.829572e-14</td>\n",
              "      <td>-2.736347e-13</td>\n",
              "      <td>1.133848e-13</td>\n",
              "    </tr>\n",
              "    <tr>\n",
              "      <th>std</th>\n",
              "      <td>1.000005e+00</td>\n",
              "      <td>1.000005e+00</td>\n",
              "      <td>1.000005e+00</td>\n",
              "      <td>1.000005e+00</td>\n",
              "      <td>1.000005e+00</td>\n",
              "    </tr>\n",
              "    <tr>\n",
              "      <th>min</th>\n",
              "      <td>-3.082835e+00</td>\n",
              "      <td>-1.535650e+00</td>\n",
              "      <td>-9.594606e-01</td>\n",
              "      <td>-3.553858e+00</td>\n",
              "      <td>-1.866804e+00</td>\n",
              "    </tr>\n",
              "    <tr>\n",
              "      <th>25%</th>\n",
              "      <td>-6.253979e-01</td>\n",
              "      <td>-7.065201e-01</td>\n",
              "      <td>-6.496964e-01</td>\n",
              "      <td>-3.949120e-01</td>\n",
              "      <td>-6.762785e-01</td>\n",
              "    </tr>\n",
              "    <tr>\n",
              "      <th>50%</th>\n",
              "      <td>8.779282e-03</td>\n",
              "      <td>-2.152923e-01</td>\n",
              "      <td>-3.251815e-01</td>\n",
              "      <td>2.369397e-01</td>\n",
              "      <td>-1.480957e-01</td>\n",
              "    </tr>\n",
              "    <tr>\n",
              "      <th>75%</th>\n",
              "      <td>5.636843e-01</td>\n",
              "      <td>2.274357e-01</td>\n",
              "      <td>2.353442e-01</td>\n",
              "      <td>4.923967e-01</td>\n",
              "      <td>4.973911e-01</td>\n",
              "    </tr>\n",
              "    <tr>\n",
              "      <th>max</th>\n",
              "      <td>3.655298e+00</td>\n",
              "      <td>2.770300e+00</td>\n",
              "      <td>4.395035e+00</td>\n",
              "      <td>3.324511e+00</td>\n",
              "      <td>3.858516e+00</td>\n",
              "    </tr>\n",
              "  </tbody>\n",
              "</table>\n",
              "</div>"
            ],
            "text/plain": [
              "       Strike Price    Underlying      Duration          rate      sigma_20\n",
              "count  1.042180e+05  1.042180e+05  1.042180e+05  1.042180e+05  1.042180e+05\n",
              "mean  -1.658639e-14  2.626540e-13  1.829572e-14 -2.736347e-13  1.133848e-13\n",
              "std    1.000005e+00  1.000005e+00  1.000005e+00  1.000005e+00  1.000005e+00\n",
              "min   -3.082835e+00 -1.535650e+00 -9.594606e-01 -3.553858e+00 -1.866804e+00\n",
              "25%   -6.253979e-01 -7.065201e-01 -6.496964e-01 -3.949120e-01 -6.762785e-01\n",
              "50%    8.779282e-03 -2.152923e-01 -3.251815e-01  2.369397e-01 -1.480957e-01\n",
              "75%    5.636843e-01  2.274357e-01  2.353442e-01  4.923967e-01  4.973911e-01\n",
              "max    3.655298e+00  2.770300e+00  4.395035e+00  3.324511e+00  3.858516e+00"
            ]
          },
          "metadata": {
            "tags": []
          },
          "execution_count": 114
        }
      ]
    },
    {
      "cell_type": "code",
      "metadata": {
        "colab": {
          "base_uri": "https://localhost:8080/",
          "height": 204
        },
        "id": "33FZDU_Vhd3I",
        "outputId": "027f31af-31c8-44bc-eb5b-6c83f21caa4c"
      },
      "source": [
        "y_std.head()"
      ],
      "execution_count": 115,
      "outputs": [
        {
          "output_type": "execute_result",
          "data": {
            "text/html": [
              "<div>\n",
              "<style scoped>\n",
              "    .dataframe tbody tr th:only-of-type {\n",
              "        vertical-align: middle;\n",
              "    }\n",
              "\n",
              "    .dataframe tbody tr th {\n",
              "        vertical-align: top;\n",
              "    }\n",
              "\n",
              "    .dataframe thead th {\n",
              "        text-align: right;\n",
              "    }\n",
              "</style>\n",
              "<table border=\"1\" class=\"dataframe\">\n",
              "  <thead>\n",
              "    <tr style=\"text-align: right;\">\n",
              "      <th></th>\n",
              "      <th>Close_x</th>\n",
              "    </tr>\n",
              "  </thead>\n",
              "  <tbody>\n",
              "    <tr>\n",
              "      <th>3254</th>\n",
              "      <td>38.20</td>\n",
              "    </tr>\n",
              "    <tr>\n",
              "      <th>3255</th>\n",
              "      <td>195.50</td>\n",
              "    </tr>\n",
              "    <tr>\n",
              "      <th>3256</th>\n",
              "      <td>144.00</td>\n",
              "    </tr>\n",
              "    <tr>\n",
              "      <th>3257</th>\n",
              "      <td>103.35</td>\n",
              "    </tr>\n",
              "    <tr>\n",
              "      <th>3258</th>\n",
              "      <td>78.40</td>\n",
              "    </tr>\n",
              "  </tbody>\n",
              "</table>\n",
              "</div>"
            ],
            "text/plain": [
              "      Close_x\n",
              "3254    38.20\n",
              "3255   195.50\n",
              "3256   144.00\n",
              "3257   103.35\n",
              "3258    78.40"
            ]
          },
          "metadata": {
            "tags": []
          },
          "execution_count": 115
        }
      ]
    },
    {
      "cell_type": "code",
      "metadata": {
        "id": "_PUXyFK4t9i7"
      },
      "source": [
        "call_X_train, call_X_test, call_y_train, call_y_test = train_test_split(X_std, y_std, test_size=0.1, random_state=42)"
      ],
      "execution_count": 116,
      "outputs": []
    },
    {
      "cell_type": "code",
      "metadata": {
        "colab": {
          "base_uri": "https://localhost:8080/",
          "height": 297
        },
        "id": "A5Dld1DqSvQO",
        "outputId": "71ac3005-49e5-4e4c-b758-8ecf362713ee"
      },
      "source": [
        "call_X_train.describe()"
      ],
      "execution_count": 117,
      "outputs": [
        {
          "output_type": "execute_result",
          "data": {
            "text/html": [
              "<div>\n",
              "<style scoped>\n",
              "    .dataframe tbody tr th:only-of-type {\n",
              "        vertical-align: middle;\n",
              "    }\n",
              "\n",
              "    .dataframe tbody tr th {\n",
              "        vertical-align: top;\n",
              "    }\n",
              "\n",
              "    .dataframe thead th {\n",
              "        text-align: right;\n",
              "    }\n",
              "</style>\n",
              "<table border=\"1\" class=\"dataframe\">\n",
              "  <thead>\n",
              "    <tr style=\"text-align: right;\">\n",
              "      <th></th>\n",
              "      <th>Strike Price</th>\n",
              "      <th>Underlying</th>\n",
              "      <th>Duration</th>\n",
              "      <th>rate</th>\n",
              "      <th>sigma_20</th>\n",
              "    </tr>\n",
              "  </thead>\n",
              "  <tbody>\n",
              "    <tr>\n",
              "      <th>count</th>\n",
              "      <td>93796.000000</td>\n",
              "      <td>93796.000000</td>\n",
              "      <td>93796.000000</td>\n",
              "      <td>93796.000000</td>\n",
              "      <td>93796.000000</td>\n",
              "    </tr>\n",
              "    <tr>\n",
              "      <th>mean</th>\n",
              "      <td>0.000195</td>\n",
              "      <td>0.001036</td>\n",
              "      <td>-0.001316</td>\n",
              "      <td>0.000925</td>\n",
              "      <td>-0.001506</td>\n",
              "    </tr>\n",
              "    <tr>\n",
              "      <th>std</th>\n",
              "      <td>1.000225</td>\n",
              "      <td>1.000717</td>\n",
              "      <td>0.996798</td>\n",
              "      <td>0.999468</td>\n",
              "      <td>0.998742</td>\n",
              "    </tr>\n",
              "    <tr>\n",
              "      <th>min</th>\n",
              "      <td>-3.082835</td>\n",
              "      <td>-1.535650</td>\n",
              "      <td>-0.959461</td>\n",
              "      <td>-3.553858</td>\n",
              "      <td>-1.866804</td>\n",
              "    </tr>\n",
              "    <tr>\n",
              "      <th>25%</th>\n",
              "      <td>-0.625398</td>\n",
              "      <td>-0.706520</td>\n",
              "      <td>-0.649696</td>\n",
              "      <td>-0.390623</td>\n",
              "      <td>-0.676279</td>\n",
              "    </tr>\n",
              "    <tr>\n",
              "      <th>50%</th>\n",
              "      <td>0.008779</td>\n",
              "      <td>-0.215292</td>\n",
              "      <td>-0.325182</td>\n",
              "      <td>0.237913</td>\n",
              "      <td>-0.152665</td>\n",
              "    </tr>\n",
              "    <tr>\n",
              "      <th>75%</th>\n",
              "      <td>0.563684</td>\n",
              "      <td>0.227436</td>\n",
              "      <td>0.235344</td>\n",
              "      <td>0.492397</td>\n",
              "      <td>0.493411</td>\n",
              "    </tr>\n",
              "    <tr>\n",
              "      <th>max</th>\n",
              "      <td>3.655298</td>\n",
              "      <td>2.770300</td>\n",
              "      <td>4.395035</td>\n",
              "      <td>3.324511</td>\n",
              "      <td>3.858516</td>\n",
              "    </tr>\n",
              "  </tbody>\n",
              "</table>\n",
              "</div>"
            ],
            "text/plain": [
              "       Strike Price    Underlying      Duration          rate      sigma_20\n",
              "count  93796.000000  93796.000000  93796.000000  93796.000000  93796.000000\n",
              "mean       0.000195      0.001036     -0.001316      0.000925     -0.001506\n",
              "std        1.000225      1.000717      0.996798      0.999468      0.998742\n",
              "min       -3.082835     -1.535650     -0.959461     -3.553858     -1.866804\n",
              "25%       -0.625398     -0.706520     -0.649696     -0.390623     -0.676279\n",
              "50%        0.008779     -0.215292     -0.325182      0.237913     -0.152665\n",
              "75%        0.563684      0.227436      0.235344      0.492397      0.493411\n",
              "max        3.655298      2.770300      4.395035      3.324511      3.858516"
            ]
          },
          "metadata": {
            "tags": []
          },
          "execution_count": 117
        }
      ]
    },
    {
      "cell_type": "code",
      "metadata": {
        "id": "vzUuUbCDrjkP"
      },
      "source": [
        "# Hyperparams\n",
        "n_units = 400\n",
        "n_batch = 4096"
      ],
      "execution_count": 143,
      "outputs": []
    },
    {
      "cell_type": "code",
      "metadata": {
        "id": "MWUwsMHEuLL8"
      },
      "source": [
        "model = Sequential()\n",
        "model.add(Dense(n_units, input_dim=call_X_train.shape[1]))\n",
        "model.add(LeakyReLU())\n",
        "\n",
        "model.add(Dense(n_units*2))\n",
        "model.add(BatchNormalization())\n",
        "model.add(LeakyReLU())\n",
        "\n",
        "model.add(Dense(n_units*3/2))\n",
        "model.add(BatchNormalization())\n",
        "model.add(LeakyReLU())\n",
        "\n",
        "model.add(Dense(n_units))\n",
        "model.add(BatchNormalization())\n",
        "model.add(LeakyReLU())\n",
        "\n",
        "model.add(Dense(1, activation='relu'))\n",
        "\n",
        "model.compile(loss='mse', optimizer=Adam())"
      ],
      "execution_count": 161,
      "outputs": []
    },
    {
      "cell_type": "code",
      "metadata": {
        "colab": {
          "base_uri": "https://localhost:8080/"
        },
        "id": "limCSwIAuN94",
        "outputId": "69d24722-3872-4089-ce3b-b420d90f17e5"
      },
      "source": [
        "model.summary()"
      ],
      "execution_count": 162,
      "outputs": [
        {
          "output_type": "stream",
          "text": [
            "Model: \"sequential_7\"\n",
            "_________________________________________________________________\n",
            "Layer (type)                 Output Shape              Param #   \n",
            "=================================================================\n",
            "dense_37 (Dense)             (None, 400)               2400      \n",
            "_________________________________________________________________\n",
            "leaky_re_lu_32 (LeakyReLU)   (None, 400)               0         \n",
            "_________________________________________________________________\n",
            "dense_38 (Dense)             (None, 800)               320800    \n",
            "_________________________________________________________________\n",
            "batch_normalization_23 (Batc (None, 800)               3200      \n",
            "_________________________________________________________________\n",
            "leaky_re_lu_33 (LeakyReLU)   (None, 800)               0         \n",
            "_________________________________________________________________\n",
            "dense_39 (Dense)             (None, 600)               480600    \n",
            "_________________________________________________________________\n",
            "batch_normalization_24 (Batc (None, 600)               2400      \n",
            "_________________________________________________________________\n",
            "leaky_re_lu_34 (LeakyReLU)   (None, 600)               0         \n",
            "_________________________________________________________________\n",
            "dense_40 (Dense)             (None, 400)               240400    \n",
            "_________________________________________________________________\n",
            "batch_normalization_25 (Batc (None, 400)               1600      \n",
            "_________________________________________________________________\n",
            "leaky_re_lu_35 (LeakyReLU)   (None, 400)               0         \n",
            "_________________________________________________________________\n",
            "dense_41 (Dense)             (None, 1)                 401       \n",
            "=================================================================\n",
            "Total params: 1,051,801\n",
            "Trainable params: 1,048,201\n",
            "Non-trainable params: 3,600\n",
            "_________________________________________________________________\n"
          ],
          "name": "stdout"
        }
      ]
    },
    {
      "cell_type": "code",
      "metadata": {
        "colab": {
          "base_uri": "https://localhost:8080/"
        },
        "id": "8W1AQeb9uP97",
        "outputId": "4f818edc-e66a-4e0c-acf2-797a9cbaf6d3"
      },
      "source": [
        "n_epochs = 80\n",
        "history = model.fit(call_X_train, call_y_train, \n",
        "                    batch_size=n_batch, epochs=n_epochs, \n",
        "                    validation_split = 0.05,\n",
        "                    callbacks=[TensorBoard()],\n",
        "                    verbose=1)"
      ],
      "execution_count": 163,
      "outputs": [
        {
          "output_type": "stream",
          "text": [
            "Epoch 1/80\n",
            "22/22 [==============================] - 9s 385ms/step - loss: 789704.8967 - val_loss: 733007.5000\n",
            "Epoch 2/80\n",
            "22/22 [==============================] - 8s 373ms/step - loss: 768315.5516 - val_loss: 727584.1250\n",
            "Epoch 3/80\n",
            "22/22 [==============================] - 8s 372ms/step - loss: 756577.5190 - val_loss: 727505.9375\n",
            "Epoch 4/80\n",
            "22/22 [==============================] - 8s 372ms/step - loss: 762989.8668 - val_loss: 727174.6875\n",
            "Epoch 5/80\n",
            "22/22 [==============================] - 8s 375ms/step - loss: 745880.1848 - val_loss: 724543.1875\n",
            "Epoch 6/80\n",
            "22/22 [==============================] - 8s 376ms/step - loss: 736781.3370 - val_loss: 719970.6250\n",
            "Epoch 7/80\n",
            "22/22 [==============================] - 8s 371ms/step - loss: 707528.3370 - val_loss: 712075.0000\n",
            "Epoch 8/80\n",
            "22/22 [==============================] - 8s 372ms/step - loss: 700219.5462 - val_loss: 701496.5625\n",
            "Epoch 9/80\n",
            "22/22 [==============================] - 8s 372ms/step - loss: 689474.7989 - val_loss: 686670.5625\n",
            "Epoch 10/80\n",
            "22/22 [==============================] - 8s 371ms/step - loss: 659556.3397 - val_loss: 668147.9375\n",
            "Epoch 11/80\n",
            "22/22 [==============================] - 8s 374ms/step - loss: 653496.5625 - val_loss: 651171.3750\n",
            "Epoch 12/80\n",
            "22/22 [==============================] - 8s 367ms/step - loss: 643584.7826 - val_loss: 624469.1250\n",
            "Epoch 13/80\n",
            "22/22 [==============================] - 8s 367ms/step - loss: 626555.3614 - val_loss: 601014.4375\n",
            "Epoch 14/80\n",
            "22/22 [==============================] - 8s 371ms/step - loss: 604303.1821 - val_loss: 573811.6875\n",
            "Epoch 15/80\n",
            "22/22 [==============================] - 8s 369ms/step - loss: 588487.2935 - val_loss: 551972.4375\n",
            "Epoch 16/80\n",
            "22/22 [==============================] - 8s 374ms/step - loss: 558354.7310 - val_loss: 534856.7500\n",
            "Epoch 17/80\n",
            "22/22 [==============================] - 8s 374ms/step - loss: 537070.7296 - val_loss: 492876.8438\n",
            "Epoch 18/80\n",
            "22/22 [==============================] - 8s 372ms/step - loss: 513071.1345 - val_loss: 449054.6875\n",
            "Epoch 19/80\n",
            "22/22 [==============================] - 8s 369ms/step - loss: 490926.2514 - val_loss: 441569.8438\n",
            "Epoch 20/80\n",
            "22/22 [==============================] - 8s 370ms/step - loss: 470553.2541 - val_loss: 399933.9062\n",
            "Epoch 21/80\n",
            "22/22 [==============================] - 8s 370ms/step - loss: 453534.9660 - val_loss: 375179.3438\n",
            "Epoch 22/80\n",
            "22/22 [==============================] - 8s 374ms/step - loss: 431889.9538 - val_loss: 357911.3750\n",
            "Epoch 23/80\n",
            "22/22 [==============================] - 8s 375ms/step - loss: 402861.7011 - val_loss: 319915.6250\n",
            "Epoch 24/80\n",
            "22/22 [==============================] - 8s 376ms/step - loss: 382301.3601 - val_loss: 279390.7812\n",
            "Epoch 25/80\n",
            "22/22 [==============================] - 8s 370ms/step - loss: 371028.9878 - val_loss: 259104.6406\n",
            "Epoch 26/80\n",
            "22/22 [==============================] - 8s 373ms/step - loss: 347951.0204 - val_loss: 240851.5938\n",
            "Epoch 27/80\n",
            "22/22 [==============================] - 8s 373ms/step - loss: 323633.8696 - val_loss: 166817.4062\n",
            "Epoch 28/80\n",
            "22/22 [==============================] - 8s 371ms/step - loss: 304870.7609 - val_loss: 147807.3750\n",
            "Epoch 29/80\n",
            "22/22 [==============================] - 8s 372ms/step - loss: 279707.0183 - val_loss: 132529.3438\n",
            "Epoch 30/80\n",
            "22/22 [==============================] - 8s 369ms/step - loss: 262506.0550 - val_loss: 134279.8906\n",
            "Epoch 31/80\n",
            "22/22 [==============================] - 8s 372ms/step - loss: 244487.7099 - val_loss: 127188.3047\n",
            "Epoch 32/80\n",
            "22/22 [==============================] - 8s 374ms/step - loss: 231903.1046 - val_loss: 132422.6562\n",
            "Epoch 33/80\n",
            "22/22 [==============================] - 8s 375ms/step - loss: 216708.7045 - val_loss: 127230.4844\n",
            "Epoch 34/80\n",
            "22/22 [==============================] - 8s 372ms/step - loss: 193237.0197 - val_loss: 114717.2031\n",
            "Epoch 35/80\n",
            "22/22 [==============================] - 8s 376ms/step - loss: 169664.1332 - val_loss: 113478.7109\n",
            "Epoch 36/80\n",
            "22/22 [==============================] - 8s 370ms/step - loss: 160938.5584 - val_loss: 94585.2891\n",
            "Epoch 37/80\n",
            "22/22 [==============================] - 8s 374ms/step - loss: 152064.3016 - val_loss: 85664.8281\n",
            "Epoch 38/80\n",
            "22/22 [==============================] - 8s 373ms/step - loss: 134391.9042 - val_loss: 64710.5586\n",
            "Epoch 39/80\n",
            "22/22 [==============================] - 8s 367ms/step - loss: 131036.8305 - val_loss: 63864.9805\n",
            "Epoch 40/80\n",
            "22/22 [==============================] - 8s 366ms/step - loss: 112331.7965 - val_loss: 54573.3750\n",
            "Epoch 41/80\n",
            "22/22 [==============================] - 8s 367ms/step - loss: 99672.2503 - val_loss: 39141.1172\n",
            "Epoch 42/80\n",
            "22/22 [==============================] - 8s 370ms/step - loss: 85558.6199 - val_loss: 16233.6328\n",
            "Epoch 43/80\n",
            "22/22 [==============================] - 8s 367ms/step - loss: 81185.2099 - val_loss: 21895.5293\n",
            "Epoch 44/80\n",
            "22/22 [==============================] - 8s 373ms/step - loss: 73321.4046 - val_loss: 16940.3242\n",
            "Epoch 45/80\n",
            "22/22 [==============================] - 8s 370ms/step - loss: 63267.5309 - val_loss: 1173.1914\n",
            "Epoch 46/80\n",
            "22/22 [==============================] - 8s 369ms/step - loss: 57466.2193 - val_loss: 1276.2635\n",
            "Epoch 47/80\n",
            "22/22 [==============================] - 8s 369ms/step - loss: 48731.9536 - val_loss: 1019.5630\n",
            "Epoch 48/80\n",
            "22/22 [==============================] - 8s 368ms/step - loss: 43938.5175 - val_loss: 1099.8444\n",
            "Epoch 49/80\n",
            "22/22 [==============================] - 8s 374ms/step - loss: 37898.1258 - val_loss: 1736.8472\n",
            "Epoch 50/80\n",
            "22/22 [==============================] - 8s 369ms/step - loss: 33283.0728 - val_loss: 2304.9785\n",
            "Epoch 51/80\n",
            "22/22 [==============================] - 8s 368ms/step - loss: 28837.3257 - val_loss: 2188.5564\n",
            "Epoch 52/80\n",
            "22/22 [==============================] - 8s 366ms/step - loss: 25129.3646 - val_loss: 3807.1255\n",
            "Epoch 53/80\n",
            "22/22 [==============================] - 8s 367ms/step - loss: 20987.1829 - val_loss: 3517.0618\n",
            "Epoch 54/80\n",
            "22/22 [==============================] - 8s 364ms/step - loss: 16577.0033 - val_loss: 4164.2847\n",
            "Epoch 55/80\n",
            "22/22 [==============================] - 8s 372ms/step - loss: 14391.0585 - val_loss: 970.9236\n",
            "Epoch 56/80\n",
            "22/22 [==============================] - 8s 367ms/step - loss: 13293.5360 - val_loss: 771.7052\n",
            "Epoch 57/80\n",
            "22/22 [==============================] - 8s 373ms/step - loss: 10744.4321 - val_loss: 881.9661\n",
            "Epoch 58/80\n",
            "22/22 [==============================] - 8s 376ms/step - loss: 10755.2635 - val_loss: 798.9955\n",
            "Epoch 59/80\n",
            "22/22 [==============================] - 8s 377ms/step - loss: 6420.3939 - val_loss: 909.2977\n",
            "Epoch 60/80\n",
            "22/22 [==============================] - 8s 375ms/step - loss: 7789.9756 - val_loss: 830.5741\n",
            "Epoch 61/80\n",
            "22/22 [==============================] - 8s 370ms/step - loss: 5870.2478 - val_loss: 907.9939\n",
            "Epoch 62/80\n",
            "22/22 [==============================] - 8s 371ms/step - loss: 4521.0134 - val_loss: 2055.8171\n",
            "Epoch 63/80\n",
            "22/22 [==============================] - 8s 369ms/step - loss: 5230.5124 - val_loss: 1264.1989\n",
            "Epoch 64/80\n",
            "22/22 [==============================] - 8s 368ms/step - loss: 3458.6353 - val_loss: 1826.7412\n",
            "Epoch 65/80\n",
            "22/22 [==============================] - 8s 374ms/step - loss: 2778.1536 - val_loss: 1386.7635\n",
            "Epoch 66/80\n",
            "22/22 [==============================] - 8s 369ms/step - loss: 2564.7944 - val_loss: 1672.8170\n",
            "Epoch 67/80\n",
            "22/22 [==============================] - 8s 369ms/step - loss: 2732.8550 - val_loss: 2102.3032\n",
            "Epoch 68/80\n",
            "22/22 [==============================] - 8s 370ms/step - loss: 1707.9227 - val_loss: 4449.6597\n",
            "Epoch 69/80\n",
            "22/22 [==============================] - 8s 368ms/step - loss: 1962.6568 - val_loss: 4532.3271\n",
            "Epoch 70/80\n",
            "22/22 [==============================] - 8s 373ms/step - loss: 2022.4878 - val_loss: 3344.6040\n",
            "Epoch 71/80\n",
            "22/22 [==============================] - 8s 365ms/step - loss: 2166.2479 - val_loss: 3280.9189\n",
            "Epoch 72/80\n",
            "22/22 [==============================] - 8s 368ms/step - loss: 1388.3651 - val_loss: 2060.3347\n",
            "Epoch 73/80\n",
            "22/22 [==============================] - 8s 368ms/step - loss: 1453.4188 - val_loss: 3204.9578\n",
            "Epoch 74/80\n",
            "22/22 [==============================] - 8s 366ms/step - loss: 1398.5084 - val_loss: 2858.2175\n",
            "Epoch 75/80\n",
            "22/22 [==============================] - 8s 370ms/step - loss: 1371.4915 - val_loss: 2981.6765\n",
            "Epoch 76/80\n",
            "22/22 [==============================] - 8s 374ms/step - loss: 1381.9495 - val_loss: 4594.5571\n",
            "Epoch 77/80\n",
            "22/22 [==============================] - 8s 369ms/step - loss: 1425.5370 - val_loss: 3920.1274\n",
            "Epoch 78/80\n",
            "22/22 [==============================] - 8s 369ms/step - loss: 1200.4065 - val_loss: 2446.4673\n",
            "Epoch 79/80\n",
            "22/22 [==============================] - 8s 369ms/step - loss: 1191.9200 - val_loss: 1191.4962\n",
            "Epoch 80/80\n",
            "22/22 [==============================] - 8s 369ms/step - loss: 1229.4843 - val_loss: 1091.5560\n"
          ],
          "name": "stdout"
        }
      ]
    },
    {
      "cell_type": "code",
      "metadata": {
        "colab": {
          "base_uri": "https://localhost:8080/",
          "height": 295
        },
        "id": "E7KBy2xvuVY5",
        "outputId": "66972fe3-5ee9-4eab-b743-61117a176724"
      },
      "source": [
        "loss = history.history['loss']\n",
        "val_loss = history.history['val_loss']\n",
        "\n",
        "epochs = range(len(loss))\n",
        "\n",
        "plt.figure()\n",
        "\n",
        "plt.plot(epochs, loss, 'r', label='Training Loss')\n",
        "plt.plot(epochs, val_loss, 'b', label='Validation Loss')\n",
        "plt.title('Training and validation loss')\n",
        "plt.xlabel('Epoch')\n",
        "plt.ylabel('Loss')\n",
        "plt.legend()\n",
        "\n",
        "plt.show()"
      ],
      "execution_count": 164,
      "outputs": [
        {
          "output_type": "display_data",
          "data": {
            "image/png": "[encoded data removed]",
            "text/plain": [
              "<Figure size 432x288 with 1 Axes>"
            ]
          },
          "metadata": {
            "tags": [],
            "needs_background": "light"
          }
        }
      ]
    },
    {
      "cell_type": "code",
      "metadata": {
        "id": "0eQZ2DkoioAC"
      },
      "source": [
        "y_pred = model.predict(call_X_test)"
      ],
      "execution_count": 165,
      "outputs": []
    },
    {
      "cell_type": "code",
      "metadata": {
        "colab": {
          "base_uri": "https://localhost:8080/"
        },
        "id": "QVgzpB_AUAa_",
        "outputId": "7d3f4d78-6331-4ad0-aa55-66f366ce54ca"
      },
      "source": [
        "y_pred"
      ],
      "execution_count": 167,
      "outputs": [
        {
          "output_type": "execute_result",
          "data": {
            "text/plain": [
              "array([[1402.6134 ],\n",
              "       [ 344.47348],\n",
              "       [3880.7576 ],\n",
              "       ...,\n",
              "       [ 898.41595],\n",
              "       [   0.     ],\n",
              "       [1664.7218 ]], dtype=float32)"
            ]
          },
          "metadata": {
            "tags": []
          },
          "execution_count": 167
        }
      ]
    },
    {
      "cell_type": "code",
      "metadata": {
        "colab": {
          "base_uri": "https://localhost:8080/",
          "height": 419
        },
        "id": "aQMzvKr0ZPM2",
        "outputId": "ee035bb2-cac3-43ea-94c4-4b204e8c529c"
      },
      "source": [
        "call_y_test"
      ],
      "execution_count": 168,
      "outputs": [
        {
          "output_type": "execute_result",
          "data": {
            "text/html": [
              "<div>\n",
              "<style scoped>\n",
              "    .dataframe tbody tr th:only-of-type {\n",
              "        vertical-align: middle;\n",
              "    }\n",
              "\n",
              "    .dataframe tbody tr th {\n",
              "        vertical-align: top;\n",
              "    }\n",
              "\n",
              "    .dataframe thead th {\n",
              "        text-align: right;\n",
              "    }\n",
              "</style>\n",
              "<table border=\"1\" class=\"dataframe\">\n",
              "  <thead>\n",
              "    <tr style=\"text-align: right;\">\n",
              "      <th></th>\n",
              "      <th>Close_x</th>\n",
              "    </tr>\n",
              "  </thead>\n",
              "  <tbody>\n",
              "    <tr>\n",
              "      <th>241050</th>\n",
              "      <td>1363.65</td>\n",
              "    </tr>\n",
              "    <tr>\n",
              "      <th>24784</th>\n",
              "      <td>332.50</td>\n",
              "    </tr>\n",
              "    <tr>\n",
              "      <th>36514</th>\n",
              "      <td>3850.00</td>\n",
              "    </tr>\n",
              "    <tr>\n",
              "      <th>35703</th>\n",
              "      <td>865.00</td>\n",
              "    </tr>\n",
              "    <tr>\n",
              "      <th>57136</th>\n",
              "      <td>770.00</td>\n",
              "    </tr>\n",
              "    <tr>\n",
              "      <th>...</th>\n",
              "      <td>...</td>\n",
              "    </tr>\n",
              "    <tr>\n",
              "      <th>66147</th>\n",
              "      <td>830.05</td>\n",
              "    </tr>\n",
              "    <tr>\n",
              "      <th>298438</th>\n",
              "      <td>6.50</td>\n",
              "    </tr>\n",
              "    <tr>\n",
              "      <th>201147</th>\n",
              "      <td>871.00</td>\n",
              "    </tr>\n",
              "    <tr>\n",
              "      <th>173929</th>\n",
              "      <td>1.20</td>\n",
              "    </tr>\n",
              "    <tr>\n",
              "      <th>40233</th>\n",
              "      <td>1650.00</td>\n",
              "    </tr>\n",
              "  </tbody>\n",
              "</table>\n",
              "<p>10422 rows × 1 columns</p>\n",
              "</div>"
            ],
            "text/plain": [
              "        Close_x\n",
              "241050  1363.65\n",
              "24784    332.50\n",
              "36514   3850.00\n",
              "35703    865.00\n",
              "57136    770.00\n",
              "...         ...\n",
              "66147    830.05\n",
              "298438     6.50\n",
              "201147   871.00\n",
              "173929     1.20\n",
              "40233   1650.00\n",
              "\n",
              "[10422 rows x 1 columns]"
            ]
          },
          "metadata": {
            "tags": []
          },
          "execution_count": 168
        }
      ]
    },
    {
      "cell_type": "code",
      "metadata": {
        "colab": {
          "base_uri": "https://localhost:8080/"
        },
        "id": "Lra71NvyT8TT",
        "outputId": "ee213d47-020f-404e-a1e3-a06e0e6965d4"
      },
      "source": [
        "mse(y_pred, call_y_test)"
      ],
      "execution_count": 166,
      "outputs": [
        {
          "output_type": "execute_result",
          "data": {
            "text/plain": [
              "1115.0596541883788"
            ]
          },
          "metadata": {
            "tags": []
          },
          "execution_count": 166
        }
      ]
    },
    {
      "cell_type": "code",
      "metadata": {
        "id": "NGp-4rg5ZSC1"
      },
      "source": [
        "ras(y_pred, call_y_test)"
      ],
      "execution_count": null,
      "outputs": []
    }
  ]
}